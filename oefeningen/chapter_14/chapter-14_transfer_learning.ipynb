{
 "cells": [
  {
   "cell_type": "code",
   "execution_count": 3,
   "metadata": {},
   "outputs": [
    {
     "name": "stderr",
     "output_type": "stream",
     "text": [
      "/home/floris/deep_learning/.venv/lib/python3.10/site-packages/tqdm/auto.py:21: TqdmWarning: IProgress not found. Please update jupyter and ipywidgets. See https://ipywidgets.readthedocs.io/en/stable/user_install.html\n",
      "  from .autonotebook import tqdm as notebook_tqdm\n"
     ]
    }
   ],
   "source": [
    "import pandas as pd\n",
    "import numpy as np\n",
    "import matplotlib.pyplot as plt\n",
    "import tensorflow_datasets as tfds"
   ]
  },
  {
   "cell_type": "code",
   "execution_count": 6,
   "metadata": {},
   "outputs": [
    {
     "name": "stderr",
     "output_type": "stream",
     "text": [
      "2023-10-25 12:50:29.148948: E tensorflow/tsl/platform/cloud/curl_http_request.cc:610] The transmission  of request 0x5562d5ebbd90 (URI: https://www.googleapis.com/storage/v1/b/tfds-data/o/dataset_info%2Fcaltech101%2F3.0.1?fields=size%2Cgeneration%2Cupdated) has been stuck at 0 of 0 bytes for 61 seconds and will be aborted. CURL timing information: lookup time: 0.024495 (No error), connect time: 0 (No error), pre-transfer time: 0 (No error), start-transfer time: 0 (No error)\n",
      "2023-10-25 12:51:31.872240: E tensorflow/tsl/platform/cloud/curl_http_request.cc:610] The transmission  of request 0x5562d5ebbd90 (URI: https://www.googleapis.com/storage/v1/b/tfds-data/o/dataset_info%2Fcaltech101%2F3.0.1?fields=size%2Cgeneration%2Cupdated) has been stuck at 0 of 0 bytes for 61 seconds and will be aborted. CURL timing information: lookup time: 0.007285 (No error), connect time: 0 (No error), pre-transfer time: 0 (No error), start-transfer time: 0 (No error)\n",
      "2023-10-25 12:52:35.314335: E tensorflow/tsl/platform/cloud/curl_http_request.cc:610] The transmission  of request 0x5562d9ef1560 (URI: https://storage.googleapis.com/tfds-data/dataset_info%2Fcaltech101%2F3.0.1%2Fdataset_info.json) has been stuck at 0 of 0 bytes for 61 seconds and will be aborted. CURL timing information: lookup time: 0.005772 (No error), connect time: 0 (No error), pre-transfer time: 0 (No error), start-transfer time: 0 (No error)\n"
     ]
    },
    {
     "name": "stdout",
     "output_type": "stream",
     "text": [
      "\u001b[1mDownloading and preparing dataset 125.64 MiB (download: 125.64 MiB, generated: 132.86 MiB, total: 258.50 MiB) to /home/floris/tensorflow_datasets/caltech101/3.0.1...\u001b[0m\n"
     ]
    },
    {
     "name": "stderr",
     "output_type": "stream",
     "text": [
      "Dl Completed...: 0 url [00:00, ? url/s]\n",
      "Dl Completed...:   0%|          | 0/1 [00:00<?, ? url/s]\n",
      "\u001b[A"
     ]
    }
   ],
   "source": [
    "#We will use the first 50% of the test set as our validation set, \n",
    "# the last 50% of the test will be used as our test set\n",
    "# we will use the complete training set for training.\n",
    "train_set, valid_set, test_set = tfds. load(\n",
    "    name=\"caltech101\",\n",
    "    split=[\"train\", \"test[50%: ]\", \"test[:50%]\"],\n",
    "    as_supervised=True # Note use of as_supervised=True\n",
    ")\n",
    "\n",
    "train_set.cardinality(), valid_set.cardinality(), test_set.cardinality()"
   ]
  },
  {
   "cell_type": "code",
   "execution_count": null,
   "metadata": {},
   "outputs": [],
   "source": [
    "for image, label in train_set.take(1):\n",
    "    pass"
   ]
  }
 ],
 "metadata": {
  "kernelspec": {
   "display_name": ".venv",
   "language": "python",
   "name": "python3"
  },
  "language_info": {
   "codemirror_mode": {
    "name": "ipython",
    "version": 3
   },
   "file_extension": ".py",
   "mimetype": "text/x-python",
   "name": "python",
   "nbconvert_exporter": "python",
   "pygments_lexer": "ipython3",
   "version": "3.10.12"
  }
 },
 "nbformat": 4,
 "nbformat_minor": 2
}
