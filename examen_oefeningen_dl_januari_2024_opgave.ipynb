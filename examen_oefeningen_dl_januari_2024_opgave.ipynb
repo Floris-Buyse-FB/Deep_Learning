{
  "cells": [
    {
      "cell_type": "markdown",
      "metadata": {
        "id": "uuE488mlfL8c"
      },
      "source": [
        "# Examen Deep Learning\n",
        "\n",
        "- Naam: Floris Buyse\n",
        "- Klas: G3C1\n",
        "  \n",
        "\n",
        "**Bij dit examen mag je enkel de volgende hulpmiddelen gebruiken**\n",
        "- Google Colab\n",
        "- De websites [Keras](keras.io) en [Tensorflow](tensorflow.org) en alle deelpagina's daarop.\n",
        "- De slides, oefeningen (en oplossingen) zoals ze op Chamilo zijn verschenen.\n",
        "- Alle zelfgemaakte oefeningen en notities.\n",
        "- Het handboek \"Hands-on Machine Learning with Scikit-Learn, Keras & Tensorflow\"\n",
        "\n",
        "Indienen gebeurt door dit notebook uit te voeren en met de uitvoer intact op te laden in de Examen-opdracht.\n",
        "Laad ook een PDF-versie van je notebook op in de examentool.\n",
        "\n",
        "Alle code die je moet schrijven moet je invullen tussen\n",
        "`### JOUW CODE HIER` en  `### EINDE JOUW CODE HIER`.  \n",
        "\n",
        "Vergeet ook niet de korte vraagjes op het antwoordblad in te vullen.\n",
        "\n",
        "Schrijf al je import statements in de eerste cel hieronder."
      ]
    },
    {
      "cell_type": "code",
      "execution_count": 49,
      "metadata": {
        "id": "DZ7VVJPyfL8e"
      },
      "outputs": [],
      "source": [
        "import tensorflow as tf\n",
        "import pandas as pd\n",
        "import numpy as np\n",
        "### JOUW CODE HIER\n",
        "from functools import partial\n",
        "### EINDE JOUW CODE HIER"
      ]
    },
    {
      "cell_type": "markdown",
      "metadata": {
        "id": "4fk257vPfL8e"
      },
      "source": [
        "## Vraag 1: Wijnkwaliteit"
      ]
    },
    {
      "cell_type": "markdown",
      "metadata": {
        "id": "S7s6pBg4fL8f"
      },
      "source": [
        "(a) Dataset downloaden."
      ]
    },
    {
      "cell_type": "code",
      "execution_count": 2,
      "metadata": {
        "colab": {
          "base_uri": "https://localhost:8080/"
        },
        "id": "tgnB9LXRfL8f",
        "outputId": "ae375375-0815-4a68-c0b2-fa43443feda2"
      },
      "outputs": [
        {
          "output_type": "stream",
          "name": "stdout",
          "text": [
            "Downloading data from https://archive.ics.uci.edu/static/public/186/wine+quality.zip\n",
            "   8192/Unknown - 0s 0us/step"
          ]
        }
      ],
      "source": [
        "URL = \"https://archive.ics.uci.edu/static/public/186/wine+quality.zip\"\n",
        "### JOUW CODE HIER\n",
        "ds = tf.keras.utils.get_file(origin=URL, extract=True, cache_dir=\".\")\n",
        "### EINDE JOUW CODE HIER"
      ]
    },
    {
      "cell_type": "markdown",
      "metadata": {
        "id": "JuJx4nKkfL8f"
      },
      "source": [
        "(b) Inlezen in pandas dataframe. Verifieer dat de dataset 4898 rijen en 12 kolommen heeft."
      ]
    },
    {
      "cell_type": "code",
      "execution_count": 3,
      "metadata": {
        "tags": [],
        "colab": {
          "base_uri": "https://localhost:8080/"
        },
        "id": "mJATwidSfL8f",
        "outputId": "40a87576-e998-492f-a18e-c1c3d37137df"
      },
      "outputs": [
        {
          "output_type": "execute_result",
          "data": {
            "text/plain": [
              "(4898, 12)"
            ]
          },
          "metadata": {},
          "execution_count": 3
        }
      ],
      "source": [
        "file_path = \"./datasets/winequality-white.csv\" # Pas aan!\n",
        "wine_df = pd.read_csv(file_path, delimiter=\";\")\n",
        "wine_raw_data = wine_df.values\n",
        "wine_df.shape"
      ]
    },
    {
      "cell_type": "code",
      "source": [
        "wine_df.head()"
      ],
      "metadata": {
        "colab": {
          "base_uri": "https://localhost:8080/",
          "height": 223
        },
        "id": "7mWEMhFJgG-g",
        "outputId": "04179ac2-61d2-48c1-9855-aae4c332cf13"
      },
      "execution_count": 4,
      "outputs": [
        {
          "output_type": "execute_result",
          "data": {
            "text/plain": [
              "   fixed acidity  volatile acidity  citric acid  residual sugar  chlorides  \\\n",
              "0            7.0              0.27         0.36            20.7      0.045   \n",
              "1            6.3              0.30         0.34             1.6      0.049   \n",
              "2            8.1              0.28         0.40             6.9      0.050   \n",
              "3            7.2              0.23         0.32             8.5      0.058   \n",
              "4            7.2              0.23         0.32             8.5      0.058   \n",
              "\n",
              "   free sulfur dioxide  total sulfur dioxide  density    pH  sulphates  \\\n",
              "0                 45.0                 170.0   1.0010  3.00       0.45   \n",
              "1                 14.0                 132.0   0.9940  3.30       0.49   \n",
              "2                 30.0                  97.0   0.9951  3.26       0.44   \n",
              "3                 47.0                 186.0   0.9956  3.19       0.40   \n",
              "4                 47.0                 186.0   0.9956  3.19       0.40   \n",
              "\n",
              "   alcohol  quality  \n",
              "0      8.8        6  \n",
              "1      9.5        6  \n",
              "2     10.1        6  \n",
              "3      9.9        6  \n",
              "4      9.9        6  "
            ],
            "text/html": [
              "\n",
              "  <div id=\"df-ed29ff06-c948-4119-97ad-db9b415ecf77\" class=\"colab-df-container\">\n",
              "    <div>\n",
              "<style scoped>\n",
              "    .dataframe tbody tr th:only-of-type {\n",
              "        vertical-align: middle;\n",
              "    }\n",
              "\n",
              "    .dataframe tbody tr th {\n",
              "        vertical-align: top;\n",
              "    }\n",
              "\n",
              "    .dataframe thead th {\n",
              "        text-align: right;\n",
              "    }\n",
              "</style>\n",
              "<table border=\"1\" class=\"dataframe\">\n",
              "  <thead>\n",
              "    <tr style=\"text-align: right;\">\n",
              "      <th></th>\n",
              "      <th>fixed acidity</th>\n",
              "      <th>volatile acidity</th>\n",
              "      <th>citric acid</th>\n",
              "      <th>residual sugar</th>\n",
              "      <th>chlorides</th>\n",
              "      <th>free sulfur dioxide</th>\n",
              "      <th>total sulfur dioxide</th>\n",
              "      <th>density</th>\n",
              "      <th>pH</th>\n",
              "      <th>sulphates</th>\n",
              "      <th>alcohol</th>\n",
              "      <th>quality</th>\n",
              "    </tr>\n",
              "  </thead>\n",
              "  <tbody>\n",
              "    <tr>\n",
              "      <th>0</th>\n",
              "      <td>7.0</td>\n",
              "      <td>0.27</td>\n",
              "      <td>0.36</td>\n",
              "      <td>20.7</td>\n",
              "      <td>0.045</td>\n",
              "      <td>45.0</td>\n",
              "      <td>170.0</td>\n",
              "      <td>1.0010</td>\n",
              "      <td>3.00</td>\n",
              "      <td>0.45</td>\n",
              "      <td>8.8</td>\n",
              "      <td>6</td>\n",
              "    </tr>\n",
              "    <tr>\n",
              "      <th>1</th>\n",
              "      <td>6.3</td>\n",
              "      <td>0.30</td>\n",
              "      <td>0.34</td>\n",
              "      <td>1.6</td>\n",
              "      <td>0.049</td>\n",
              "      <td>14.0</td>\n",
              "      <td>132.0</td>\n",
              "      <td>0.9940</td>\n",
              "      <td>3.30</td>\n",
              "      <td>0.49</td>\n",
              "      <td>9.5</td>\n",
              "      <td>6</td>\n",
              "    </tr>\n",
              "    <tr>\n",
              "      <th>2</th>\n",
              "      <td>8.1</td>\n",
              "      <td>0.28</td>\n",
              "      <td>0.40</td>\n",
              "      <td>6.9</td>\n",
              "      <td>0.050</td>\n",
              "      <td>30.0</td>\n",
              "      <td>97.0</td>\n",
              "      <td>0.9951</td>\n",
              "      <td>3.26</td>\n",
              "      <td>0.44</td>\n",
              "      <td>10.1</td>\n",
              "      <td>6</td>\n",
              "    </tr>\n",
              "    <tr>\n",
              "      <th>3</th>\n",
              "      <td>7.2</td>\n",
              "      <td>0.23</td>\n",
              "      <td>0.32</td>\n",
              "      <td>8.5</td>\n",
              "      <td>0.058</td>\n",
              "      <td>47.0</td>\n",
              "      <td>186.0</td>\n",
              "      <td>0.9956</td>\n",
              "      <td>3.19</td>\n",
              "      <td>0.40</td>\n",
              "      <td>9.9</td>\n",
              "      <td>6</td>\n",
              "    </tr>\n",
              "    <tr>\n",
              "      <th>4</th>\n",
              "      <td>7.2</td>\n",
              "      <td>0.23</td>\n",
              "      <td>0.32</td>\n",
              "      <td>8.5</td>\n",
              "      <td>0.058</td>\n",
              "      <td>47.0</td>\n",
              "      <td>186.0</td>\n",
              "      <td>0.9956</td>\n",
              "      <td>3.19</td>\n",
              "      <td>0.40</td>\n",
              "      <td>9.9</td>\n",
              "      <td>6</td>\n",
              "    </tr>\n",
              "  </tbody>\n",
              "</table>\n",
              "</div>\n",
              "    <div class=\"colab-df-buttons\">\n",
              "\n",
              "  <div class=\"colab-df-container\">\n",
              "    <button class=\"colab-df-convert\" onclick=\"convertToInteractive('df-ed29ff06-c948-4119-97ad-db9b415ecf77')\"\n",
              "            title=\"Convert this dataframe to an interactive table.\"\n",
              "            style=\"display:none;\">\n",
              "\n",
              "  <svg xmlns=\"http://www.w3.org/2000/svg\" height=\"24px\" viewBox=\"0 -960 960 960\">\n",
              "    <path d=\"M120-120v-720h720v720H120Zm60-500h600v-160H180v160Zm220 220h160v-160H400v160Zm0 220h160v-160H400v160ZM180-400h160v-160H180v160Zm440 0h160v-160H620v160ZM180-180h160v-160H180v160Zm440 0h160v-160H620v160Z\"/>\n",
              "  </svg>\n",
              "    </button>\n",
              "\n",
              "  <style>\n",
              "    .colab-df-container {\n",
              "      display:flex;\n",
              "      gap: 12px;\n",
              "    }\n",
              "\n",
              "    .colab-df-convert {\n",
              "      background-color: #E8F0FE;\n",
              "      border: none;\n",
              "      border-radius: 50%;\n",
              "      cursor: pointer;\n",
              "      display: none;\n",
              "      fill: #1967D2;\n",
              "      height: 32px;\n",
              "      padding: 0 0 0 0;\n",
              "      width: 32px;\n",
              "    }\n",
              "\n",
              "    .colab-df-convert:hover {\n",
              "      background-color: #E2EBFA;\n",
              "      box-shadow: 0px 1px 2px rgba(60, 64, 67, 0.3), 0px 1px 3px 1px rgba(60, 64, 67, 0.15);\n",
              "      fill: #174EA6;\n",
              "    }\n",
              "\n",
              "    .colab-df-buttons div {\n",
              "      margin-bottom: 4px;\n",
              "    }\n",
              "\n",
              "    [theme=dark] .colab-df-convert {\n",
              "      background-color: #3B4455;\n",
              "      fill: #D2E3FC;\n",
              "    }\n",
              "\n",
              "    [theme=dark] .colab-df-convert:hover {\n",
              "      background-color: #434B5C;\n",
              "      box-shadow: 0px 1px 3px 1px rgba(0, 0, 0, 0.15);\n",
              "      filter: drop-shadow(0px 1px 2px rgba(0, 0, 0, 0.3));\n",
              "      fill: #FFFFFF;\n",
              "    }\n",
              "  </style>\n",
              "\n",
              "    <script>\n",
              "      const buttonEl =\n",
              "        document.querySelector('#df-ed29ff06-c948-4119-97ad-db9b415ecf77 button.colab-df-convert');\n",
              "      buttonEl.style.display =\n",
              "        google.colab.kernel.accessAllowed ? 'block' : 'none';\n",
              "\n",
              "      async function convertToInteractive(key) {\n",
              "        const element = document.querySelector('#df-ed29ff06-c948-4119-97ad-db9b415ecf77');\n",
              "        const dataTable =\n",
              "          await google.colab.kernel.invokeFunction('convertToInteractive',\n",
              "                                                    [key], {});\n",
              "        if (!dataTable) return;\n",
              "\n",
              "        const docLinkHtml = 'Like what you see? Visit the ' +\n",
              "          '<a target=\"_blank\" href=https://colab.research.google.com/notebooks/data_table.ipynb>data table notebook</a>'\n",
              "          + ' to learn more about interactive tables.';\n",
              "        element.innerHTML = '';\n",
              "        dataTable['output_type'] = 'display_data';\n",
              "        await google.colab.output.renderOutput(dataTable, element);\n",
              "        const docLink = document.createElement('div');\n",
              "        docLink.innerHTML = docLinkHtml;\n",
              "        element.appendChild(docLink);\n",
              "      }\n",
              "    </script>\n",
              "  </div>\n",
              "\n",
              "\n",
              "<div id=\"df-43a21483-fc5b-4f6e-9687-f50da164b93d\">\n",
              "  <button class=\"colab-df-quickchart\" onclick=\"quickchart('df-43a21483-fc5b-4f6e-9687-f50da164b93d')\"\n",
              "            title=\"Suggest charts\"\n",
              "            style=\"display:none;\">\n",
              "\n",
              "<svg xmlns=\"http://www.w3.org/2000/svg\" height=\"24px\"viewBox=\"0 0 24 24\"\n",
              "     width=\"24px\">\n",
              "    <g>\n",
              "        <path d=\"M19 3H5c-1.1 0-2 .9-2 2v14c0 1.1.9 2 2 2h14c1.1 0 2-.9 2-2V5c0-1.1-.9-2-2-2zM9 17H7v-7h2v7zm4 0h-2V7h2v10zm4 0h-2v-4h2v4z\"/>\n",
              "    </g>\n",
              "</svg>\n",
              "  </button>\n",
              "\n",
              "<style>\n",
              "  .colab-df-quickchart {\n",
              "      --bg-color: #E8F0FE;\n",
              "      --fill-color: #1967D2;\n",
              "      --hover-bg-color: #E2EBFA;\n",
              "      --hover-fill-color: #174EA6;\n",
              "      --disabled-fill-color: #AAA;\n",
              "      --disabled-bg-color: #DDD;\n",
              "  }\n",
              "\n",
              "  [theme=dark] .colab-df-quickchart {\n",
              "      --bg-color: #3B4455;\n",
              "      --fill-color: #D2E3FC;\n",
              "      --hover-bg-color: #434B5C;\n",
              "      --hover-fill-color: #FFFFFF;\n",
              "      --disabled-bg-color: #3B4455;\n",
              "      --disabled-fill-color: #666;\n",
              "  }\n",
              "\n",
              "  .colab-df-quickchart {\n",
              "    background-color: var(--bg-color);\n",
              "    border: none;\n",
              "    border-radius: 50%;\n",
              "    cursor: pointer;\n",
              "    display: none;\n",
              "    fill: var(--fill-color);\n",
              "    height: 32px;\n",
              "    padding: 0;\n",
              "    width: 32px;\n",
              "  }\n",
              "\n",
              "  .colab-df-quickchart:hover {\n",
              "    background-color: var(--hover-bg-color);\n",
              "    box-shadow: 0 1px 2px rgba(60, 64, 67, 0.3), 0 1px 3px 1px rgba(60, 64, 67, 0.15);\n",
              "    fill: var(--button-hover-fill-color);\n",
              "  }\n",
              "\n",
              "  .colab-df-quickchart-complete:disabled,\n",
              "  .colab-df-quickchart-complete:disabled:hover {\n",
              "    background-color: var(--disabled-bg-color);\n",
              "    fill: var(--disabled-fill-color);\n",
              "    box-shadow: none;\n",
              "  }\n",
              "\n",
              "  .colab-df-spinner {\n",
              "    border: 2px solid var(--fill-color);\n",
              "    border-color: transparent;\n",
              "    border-bottom-color: var(--fill-color);\n",
              "    animation:\n",
              "      spin 1s steps(1) infinite;\n",
              "  }\n",
              "\n",
              "  @keyframes spin {\n",
              "    0% {\n",
              "      border-color: transparent;\n",
              "      border-bottom-color: var(--fill-color);\n",
              "      border-left-color: var(--fill-color);\n",
              "    }\n",
              "    20% {\n",
              "      border-color: transparent;\n",
              "      border-left-color: var(--fill-color);\n",
              "      border-top-color: var(--fill-color);\n",
              "    }\n",
              "    30% {\n",
              "      border-color: transparent;\n",
              "      border-left-color: var(--fill-color);\n",
              "      border-top-color: var(--fill-color);\n",
              "      border-right-color: var(--fill-color);\n",
              "    }\n",
              "    40% {\n",
              "      border-color: transparent;\n",
              "      border-right-color: var(--fill-color);\n",
              "      border-top-color: var(--fill-color);\n",
              "    }\n",
              "    60% {\n",
              "      border-color: transparent;\n",
              "      border-right-color: var(--fill-color);\n",
              "    }\n",
              "    80% {\n",
              "      border-color: transparent;\n",
              "      border-right-color: var(--fill-color);\n",
              "      border-bottom-color: var(--fill-color);\n",
              "    }\n",
              "    90% {\n",
              "      border-color: transparent;\n",
              "      border-bottom-color: var(--fill-color);\n",
              "    }\n",
              "  }\n",
              "</style>\n",
              "\n",
              "  <script>\n",
              "    async function quickchart(key) {\n",
              "      const quickchartButtonEl =\n",
              "        document.querySelector('#' + key + ' button');\n",
              "      quickchartButtonEl.disabled = true;  // To prevent multiple clicks.\n",
              "      quickchartButtonEl.classList.add('colab-df-spinner');\n",
              "      try {\n",
              "        const charts = await google.colab.kernel.invokeFunction(\n",
              "            'suggestCharts', [key], {});\n",
              "      } catch (error) {\n",
              "        console.error('Error during call to suggestCharts:', error);\n",
              "      }\n",
              "      quickchartButtonEl.classList.remove('colab-df-spinner');\n",
              "      quickchartButtonEl.classList.add('colab-df-quickchart-complete');\n",
              "    }\n",
              "    (() => {\n",
              "      let quickchartButtonEl =\n",
              "        document.querySelector('#df-43a21483-fc5b-4f6e-9687-f50da164b93d button');\n",
              "      quickchartButtonEl.style.display =\n",
              "        google.colab.kernel.accessAllowed ? 'block' : 'none';\n",
              "    })();\n",
              "  </script>\n",
              "</div>\n",
              "    </div>\n",
              "  </div>\n"
            ]
          },
          "metadata": {},
          "execution_count": 4
        }
      ]
    },
    {
      "cell_type": "markdown",
      "metadata": {
        "id": "_TxMisgRfL8f"
      },
      "source": [
        "(c) Opsplitsen in trainings en validatiedata."
      ]
    },
    {
      "cell_type": "code",
      "execution_count": 27,
      "metadata": {
        "tags": [],
        "colab": {
          "base_uri": "https://localhost:8080/"
        },
        "id": "c0vqkh0yfL8f",
        "outputId": "a25d2c9f-40c4-4c41-c009-b2418e177604"
      },
      "outputs": [
        {
          "output_type": "execute_result",
          "data": {
            "text/plain": [
              "((4000, 12), (898, 12))"
            ]
          },
          "metadata": {},
          "execution_count": 27
        }
      ],
      "source": [
        "### JOUW CODE HIER\n",
        "wine_raw_data_train = wine_raw_data[:4000]\n",
        "wine_raw_data_val = wine_raw_data[4000:]\n",
        "wine_raw_data_train.shape, wine_raw_data_val.shape\n",
        "### EINDE JOUW CODE HIER"
      ]
    },
    {
      "cell_type": "markdown",
      "metadata": {
        "id": "6GqijJuVfL8f"
      },
      "source": [
        "(d) Maak features en labels."
      ]
    },
    {
      "cell_type": "code",
      "execution_count": 28,
      "metadata": {
        "tags": [],
        "colab": {
          "base_uri": "https://localhost:8080/"
        },
        "id": "tc5M5rIUfL8g",
        "outputId": "299fe7b4-2cec-46ae-933e-02aa95e24abd"
      },
      "outputs": [
        {
          "output_type": "execute_result",
          "data": {
            "text/plain": [
              "((4000, 11), (4000,))"
            ]
          },
          "metadata": {},
          "execution_count": 28
        }
      ],
      "source": [
        "### JOUW CODE HIER\n",
        "X_train = wine_raw_data_train[:, :-1]\n",
        "X_val = wine_raw_data_val[:, :-1]\n",
        "y_train = wine_raw_data_train[:, -1]\n",
        "y_val = wine_raw_data_val[:, -1]\n",
        "\n",
        "X_train.shape, y_train.shape\n",
        "### EINDE JOUW CODE HIER"
      ]
    },
    {
      "cell_type": "markdown",
      "metadata": {
        "id": "MhlcvcgvfL8g"
      },
      "source": [
        "(e) Maak Keras laag."
      ]
    },
    {
      "cell_type": "code",
      "execution_count": 30,
      "metadata": {
        "tags": [],
        "id": "3iWc4EYefL8g"
      },
      "outputs": [],
      "source": [
        "### JOUW CODE HIER\n",
        "preprocess_layer = tf.keras.layers.Normalization()\n",
        "preprocess_layer.adapt(X_train)\n",
        "### EINDE JOUW CODE HIER"
      ]
    },
    {
      "cell_type": "markdown",
      "metadata": {
        "id": "S792RRAVfL8g"
      },
      "source": [
        "(f) Gemiddelde en standaardafwijking."
      ]
    },
    {
      "cell_type": "code",
      "execution_count": 176,
      "metadata": {
        "colab": {
          "base_uri": "https://localhost:8080/"
        },
        "id": "lNAWQy97fL8g",
        "outputId": "6ad66da0-62c7-4b18-fbc1-d6c98036a5cf"
      },
      "outputs": [
        {
          "output_type": "execute_result",
          "data": {
            "text/plain": [
              "(<tf.Tensor: shape=(11,), dtype=float64, numpy=\n",
              " array([6.39855234e+00, 2.89036748e-01, 3.03429844e-01, 6.51325167e+00,\n",
              "        4.64042316e-02, 3.41236080e+01, 1.28881960e+02, 9.93312578e-01,\n",
              "        3.17178174e+00, 4.92561247e-01, 1.07505345e+01])>,\n",
              " <tf.Tensor: shape=(11,), dtype=float64, numpy=\n",
              " array([6.71971568e-01, 1.02778178e-01, 1.08764248e-01, 4.98213538e+00,\n",
              "        2.13303182e-02, 1.73817603e+01, 3.74626390e+01, 2.87669270e-03,\n",
              "        1.41074264e-01, 1.11509730e-01, 1.26889753e+00])>)"
            ]
          },
          "metadata": {},
          "execution_count": 176
        }
      ],
      "source": [
        "### JOUW CODE HIER\n",
        "mu = tf.math.reduce_mean(X_val, axis=0)\n",
        "sigma = tf.math.reduce_std(X_val, axis=0)\n",
        "mu, sigma\n",
        "### EINDE JOUW CODE HIER"
      ]
    },
    {
      "cell_type": "markdown",
      "metadata": {
        "id": "ZaVlPK6wfL8g"
      },
      "source": [
        "(g) Definieer `get_model`."
      ]
    },
    {
      "cell_type": "code",
      "source": [
        "X_train[0].shape"
      ],
      "metadata": {
        "colab": {
          "base_uri": "https://localhost:8080/"
        },
        "id": "2xwoQa4tiZX6",
        "outputId": "20e4490a-17b7-40b3-c3c6-7643027c8b9b"
      },
      "execution_count": 10,
      "outputs": [
        {
          "output_type": "execute_result",
          "data": {
            "text/plain": [
              "(11,)"
            ]
          },
          "metadata": {},
          "execution_count": 10
        }
      ]
    },
    {
      "cell_type": "code",
      "execution_count": 32,
      "metadata": {
        "id": "uQjpZIe1fL8g"
      },
      "outputs": [],
      "source": [
        "### JOUW CODE HIER\n",
        "def get_model(units, preprocess_layer=None, activation=None):\n",
        "  model = tf.keras.Sequential()\n",
        "  model.add(tf.keras.layers.Input(shape=(11,)))\n",
        "\n",
        "  if preprocess_layer != None:\n",
        "    model.add(preprocess_layer)\n",
        "\n",
        "  model.add(tf.keras.layers.Dense(20, activation=\"relu\"))\n",
        "\n",
        "  if activation is None:\n",
        "    model.add(tf.keras.layers.Dense(units))\n",
        "  else:\n",
        "    model.add(tf.keras.layers.Dense(units, activation=activation))\n",
        "\n",
        "\n",
        "  return model\n",
        "### EINDE JOUW CODE HIER"
      ]
    },
    {
      "cell_type": "markdown",
      "metadata": {
        "id": "PcBVmlp9fL8g"
      },
      "source": [
        "(h) Roep `get_model` aan voor een classificatieprobleem."
      ]
    },
    {
      "cell_type": "code",
      "execution_count": 33,
      "metadata": {
        "colab": {
          "base_uri": "https://localhost:8080/"
        },
        "id": "D-Qw0nl4fL8g",
        "outputId": "4675d3ca-0a36-47d8-e38d-3a457d41eff6"
      },
      "outputs": [
        {
          "output_type": "stream",
          "name": "stdout",
          "text": [
            "Model: \"sequential_3\"\n",
            "_________________________________________________________________\n",
            " Layer (type)                Output Shape              Param #   \n",
            "=================================================================\n",
            " normalization_2 (Normaliza  (None, 11)                23        \n",
            " tion)                                                           \n",
            "                                                                 \n",
            " dense_4 (Dense)             (None, 20)                240       \n",
            "                                                                 \n",
            " dense_5 (Dense)             (None, 10)                210       \n",
            "                                                                 \n",
            "=================================================================\n",
            "Total params: 473 (1.85 KB)\n",
            "Trainable params: 450 (1.76 KB)\n",
            "Non-trainable params: 23 (96.00 Byte)\n",
            "_________________________________________________________________\n"
          ]
        }
      ],
      "source": [
        "### JOUW CODE HIER\n",
        "model = get_model(10, preprocess_layer, \"softmax\")\n",
        "model.summary()\n",
        "### EINDE JOUW CODE HIER"
      ]
    },
    {
      "cell_type": "markdown",
      "metadata": {
        "id": "Cd1FgOoxfL8g"
      },
      "source": [
        "(i) Compileer model."
      ]
    },
    {
      "cell_type": "code",
      "execution_count": 34,
      "metadata": {
        "tags": [],
        "id": "JUSYW_jLfL8h"
      },
      "outputs": [],
      "source": [
        "### JOUW CODE HIER\n",
        "model.compile(optimizer=tf.keras.optimizers.RMSprop(learning_rate=0.0005), metrics=[\"accuracy\"], loss=\"sparse_categorical_crossentropy\")\n",
        "### EINDE JOUW CODE HIER"
      ]
    },
    {
      "cell_type": "markdown",
      "metadata": {
        "id": "Z6uFe5H2fL8h"
      },
      "source": [
        "(j) Train model."
      ]
    },
    {
      "cell_type": "code",
      "execution_count": 38,
      "metadata": {
        "colab": {
          "base_uri": "https://localhost:8080/"
        },
        "id": "kf0HOxVQfL8h",
        "outputId": "4c5f4ecc-5feb-4f71-bbed-0aa8431be8ce"
      },
      "outputs": [
        {
          "output_type": "stream",
          "name": "stdout",
          "text": [
            "Epoch 1/100\n",
            "32/32 [==============================] - 1s 30ms/step - loss: 1.3221 - accuracy: 0.4773 - val_loss: 1.2554 - val_accuracy: 0.4911\n",
            "Epoch 2/100\n",
            "32/32 [==============================] - 0s 3ms/step - loss: 1.2962 - accuracy: 0.4855 - val_loss: 1.2343 - val_accuracy: 0.4866\n",
            "Epoch 3/100\n",
            "32/32 [==============================] - 0s 4ms/step - loss: 1.2744 - accuracy: 0.4902 - val_loss: 1.2154 - val_accuracy: 0.4900\n",
            "Epoch 4/100\n",
            "32/32 [==============================] - 0s 4ms/step - loss: 1.2558 - accuracy: 0.4985 - val_loss: 1.2029 - val_accuracy: 0.4833\n"
          ]
        },
        {
          "output_type": "execute_result",
          "data": {
            "text/plain": [
              "<keras.src.callbacks.History at 0x7e60103bcfa0>"
            ]
          },
          "metadata": {},
          "execution_count": 38
        }
      ],
      "source": [
        "### JOUW CODE HIER\n",
        "model_check = tf.keras.callbacks.ModelCheckpoint(\"model.tf\", save_best_only=True, monitor=\"val_accuracy\")\n",
        "escb = tf.keras.callbacks.EarlyStopping(restore_best_weights=False, monitor=\"accuracy\", min_delta=0.1, patience=3)\n",
        "model.fit(X_train, y_train, batch_size=128, epochs=100, validation_data=(X_val, y_val), callbacks=[escb, model_check])\n",
        "### EINDE JOUW CODE HIER"
      ]
    },
    {
      "cell_type": "markdown",
      "metadata": {
        "id": "Z00XK3HIfL8h"
      },
      "source": [
        "(k) Evalueer beste model op validatiedata."
      ]
    },
    {
      "cell_type": "code",
      "execution_count": 39,
      "metadata": {
        "tags": [],
        "colab": {
          "base_uri": "https://localhost:8080/"
        },
        "id": "jeai4D-bfL8h",
        "outputId": "d8f38584-e22b-4fbb-eb3b-75fcd2131a51"
      },
      "outputs": [
        {
          "output_type": "stream",
          "name": "stdout",
          "text": [
            "29/29 [==============================] - 0s 2ms/step - loss: 1.2554 - accuracy: 0.4911\n"
          ]
        },
        {
          "output_type": "execute_result",
          "data": {
            "text/plain": [
              "[1.2554370164871216, 0.4910913109779358]"
            ]
          },
          "metadata": {},
          "execution_count": 39
        }
      ],
      "source": [
        "### JOUW CODE HIER\n",
        "model = tf.keras.models.load_model(\"model.tf\")\n",
        "model.evaluate(X_val, y_val)\n",
        "### EINDE JOUW CODE HIER"
      ]
    },
    {
      "cell_type": "markdown",
      "metadata": {
        "id": "ZAIWWakdfL8h"
      },
      "source": [
        "(l) Roep `get_model` aan voor een regressieprobleem."
      ]
    },
    {
      "cell_type": "code",
      "execution_count": 40,
      "metadata": {
        "tags": [],
        "colab": {
          "base_uri": "https://localhost:8080/"
        },
        "id": "gGIo-UK7fL8h",
        "outputId": "8a9ccaf1-8a44-4a28-c03e-96aaabc37cdb"
      },
      "outputs": [
        {
          "output_type": "stream",
          "name": "stdout",
          "text": [
            "Model: \"sequential_4\"\n",
            "_________________________________________________________________\n",
            " Layer (type)                Output Shape              Param #   \n",
            "=================================================================\n",
            " normalization_2 (Normaliza  (None, 11)                23        \n",
            " tion)                                                           \n",
            "                                                                 \n",
            " dense_6 (Dense)             (None, 20)                240       \n",
            "                                                                 \n",
            " dense_7 (Dense)             (None, 1)                 21        \n",
            "                                                                 \n",
            "=================================================================\n",
            "Total params: 284 (1.11 KB)\n",
            "Trainable params: 261 (1.02 KB)\n",
            "Non-trainable params: 23 (96.00 Byte)\n",
            "_________________________________________________________________\n"
          ]
        }
      ],
      "source": [
        "### JOUW CODE HIER\n",
        "model2 = get_model(1, preprocess_layer)\n",
        "model2.summary()\n",
        "### EINDE JOUW CODE HIER"
      ]
    },
    {
      "cell_type": "markdown",
      "metadata": {
        "id": "9I9_NltSfL8h"
      },
      "source": [
        "(m) Compileer en train tweede model."
      ]
    },
    {
      "cell_type": "code",
      "execution_count": 44,
      "metadata": {
        "tags": [],
        "colab": {
          "base_uri": "https://localhost:8080/"
        },
        "id": "afxZtK1ofL8h",
        "outputId": "93c84dfd-8878-419d-aa0f-1f89069de3c9"
      },
      "outputs": [
        {
          "output_type": "stream",
          "name": "stdout",
          "text": [
            "Epoch 1/100\n",
            "32/32 [==============================] - 3s 63ms/step - loss: 34.2333 - mse: 34.2333 - val_loss: 33.8795 - val_mse: 33.8795\n",
            "Epoch 2/100\n",
            "32/32 [==============================] - 0s 4ms/step - loss: 34.2333 - mse: 34.2333 - val_loss: 33.8795 - val_mse: 33.8795\n",
            "Epoch 3/100\n",
            "32/32 [==============================] - 0s 4ms/step - loss: 34.2333 - mse: 34.2333 - val_loss: 33.8795 - val_mse: 33.8795\n",
            "Epoch 4/100\n",
            "32/32 [==============================] - 0s 4ms/step - loss: 34.2333 - mse: 34.2333 - val_loss: 33.8795 - val_mse: 33.8795\n",
            "Epoch 5/100\n",
            "32/32 [==============================] - 0s 3ms/step - loss: 34.2333 - mse: 34.2333 - val_loss: 33.8795 - val_mse: 33.8795\n",
            "Epoch 6/100\n",
            "32/32 [==============================] - 0s 3ms/step - loss: 34.2333 - mse: 34.2333 - val_loss: 33.8795 - val_mse: 33.8795\n",
            "Epoch 7/100\n",
            "32/32 [==============================] - 0s 4ms/step - loss: 34.2333 - mse: 34.2333 - val_loss: 33.8795 - val_mse: 33.8795\n",
            "Epoch 8/100\n",
            "32/32 [==============================] - 0s 3ms/step - loss: 34.2333 - mse: 34.2333 - val_loss: 33.8795 - val_mse: 33.8795\n",
            "Epoch 9/100\n",
            "32/32 [==============================] - 0s 4ms/step - loss: 34.2333 - mse: 34.2333 - val_loss: 33.8795 - val_mse: 33.8795\n",
            "Epoch 10/100\n",
            "32/32 [==============================] - 0s 4ms/step - loss: 34.2333 - mse: 34.2333 - val_loss: 33.8795 - val_mse: 33.8795\n",
            "Epoch 11/100\n",
            "32/32 [==============================] - 0s 4ms/step - loss: 34.2333 - mse: 34.2333 - val_loss: 33.8795 - val_mse: 33.8795\n",
            "Epoch 12/100\n",
            "32/32 [==============================] - 0s 4ms/step - loss: 34.2333 - mse: 34.2333 - val_loss: 33.8795 - val_mse: 33.8795\n",
            "Epoch 13/100\n",
            "32/32 [==============================] - 0s 3ms/step - loss: 34.2333 - mse: 34.2333 - val_loss: 33.8795 - val_mse: 33.8795\n",
            "Epoch 14/100\n",
            "32/32 [==============================] - 0s 4ms/step - loss: 34.2333 - mse: 34.2333 - val_loss: 33.8795 - val_mse: 33.8795\n",
            "Epoch 15/100\n",
            "32/32 [==============================] - 0s 4ms/step - loss: 34.2333 - mse: 34.2333 - val_loss: 33.8795 - val_mse: 33.8795\n",
            "Epoch 16/100\n",
            "32/32 [==============================] - 0s 4ms/step - loss: 34.2333 - mse: 34.2333 - val_loss: 33.8795 - val_mse: 33.8795\n",
            "Epoch 17/100\n",
            "32/32 [==============================] - 0s 4ms/step - loss: 34.2333 - mse: 34.2333 - val_loss: 33.8795 - val_mse: 33.8795\n",
            "Epoch 18/100\n",
            "32/32 [==============================] - 0s 4ms/step - loss: 34.2333 - mse: 34.2333 - val_loss: 33.8795 - val_mse: 33.8795\n",
            "Epoch 19/100\n",
            "32/32 [==============================] - 0s 4ms/step - loss: 34.2333 - mse: 34.2333 - val_loss: 33.8795 - val_mse: 33.8795\n",
            "Epoch 20/100\n",
            "32/32 [==============================] - 0s 4ms/step - loss: 34.2333 - mse: 34.2333 - val_loss: 33.8795 - val_mse: 33.8795\n",
            "Epoch 21/100\n",
            "32/32 [==============================] - 0s 4ms/step - loss: 34.2333 - mse: 34.2333 - val_loss: 33.8795 - val_mse: 33.8795\n",
            "Epoch 22/100\n",
            "32/32 [==============================] - 0s 3ms/step - loss: 34.2333 - mse: 34.2333 - val_loss: 33.8795 - val_mse: 33.8795\n",
            "Epoch 23/100\n",
            "32/32 [==============================] - 0s 4ms/step - loss: 34.2333 - mse: 34.2333 - val_loss: 33.8795 - val_mse: 33.8795\n",
            "Epoch 24/100\n",
            "32/32 [==============================] - 0s 3ms/step - loss: 34.2333 - mse: 34.2333 - val_loss: 33.8795 - val_mse: 33.8795\n",
            "Epoch 25/100\n",
            "32/32 [==============================] - 0s 4ms/step - loss: 34.2333 - mse: 34.2333 - val_loss: 33.8795 - val_mse: 33.8795\n",
            "Epoch 26/100\n",
            "32/32 [==============================] - 0s 3ms/step - loss: 34.2333 - mse: 34.2333 - val_loss: 33.8795 - val_mse: 33.8795\n",
            "Epoch 27/100\n",
            "32/32 [==============================] - 0s 3ms/step - loss: 34.2333 - mse: 34.2333 - val_loss: 33.8795 - val_mse: 33.8795\n",
            "Epoch 28/100\n",
            "32/32 [==============================] - 0s 4ms/step - loss: 34.2333 - mse: 34.2333 - val_loss: 33.8795 - val_mse: 33.8795\n",
            "Epoch 29/100\n",
            "32/32 [==============================] - 0s 3ms/step - loss: 34.2333 - mse: 34.2333 - val_loss: 33.8795 - val_mse: 33.8795\n",
            "Epoch 30/100\n",
            "32/32 [==============================] - 0s 4ms/step - loss: 34.2333 - mse: 34.2333 - val_loss: 33.8795 - val_mse: 33.8795\n",
            "Epoch 31/100\n",
            "32/32 [==============================] - 0s 4ms/step - loss: 34.2333 - mse: 34.2333 - val_loss: 33.8795 - val_mse: 33.8795\n",
            "Epoch 32/100\n",
            "32/32 [==============================] - 0s 3ms/step - loss: 34.2333 - mse: 34.2333 - val_loss: 33.8795 - val_mse: 33.8795\n",
            "Epoch 33/100\n",
            "32/32 [==============================] - 0s 4ms/step - loss: 34.2333 - mse: 34.2333 - val_loss: 33.8795 - val_mse: 33.8795\n",
            "Epoch 34/100\n",
            "32/32 [==============================] - 0s 4ms/step - loss: 34.2333 - mse: 34.2333 - val_loss: 33.8795 - val_mse: 33.8795\n",
            "Epoch 35/100\n",
            "32/32 [==============================] - 0s 3ms/step - loss: 34.2333 - mse: 34.2333 - val_loss: 33.8795 - val_mse: 33.8795\n",
            "Epoch 36/100\n",
            "32/32 [==============================] - 0s 4ms/step - loss: 34.2333 - mse: 34.2333 - val_loss: 33.8795 - val_mse: 33.8795\n",
            "Epoch 37/100\n",
            "32/32 [==============================] - 0s 5ms/step - loss: 34.2333 - mse: 34.2333 - val_loss: 33.8795 - val_mse: 33.8795\n",
            "Epoch 38/100\n",
            "32/32 [==============================] - 0s 7ms/step - loss: 34.2333 - mse: 34.2333 - val_loss: 33.8795 - val_mse: 33.8795\n",
            "Epoch 39/100\n",
            "32/32 [==============================] - 0s 7ms/step - loss: 34.2333 - mse: 34.2333 - val_loss: 33.8795 - val_mse: 33.8795\n",
            "Epoch 40/100\n",
            "32/32 [==============================] - 0s 6ms/step - loss: 34.2333 - mse: 34.2333 - val_loss: 33.8795 - val_mse: 33.8795\n",
            "Epoch 41/100\n",
            "32/32 [==============================] - 0s 5ms/step - loss: 34.2333 - mse: 34.2333 - val_loss: 33.8795 - val_mse: 33.8795\n",
            "Epoch 42/100\n",
            "32/32 [==============================] - 0s 6ms/step - loss: 34.2333 - mse: 34.2333 - val_loss: 33.8795 - val_mse: 33.8795\n",
            "Epoch 43/100\n",
            "32/32 [==============================] - 0s 6ms/step - loss: 34.2333 - mse: 34.2333 - val_loss: 33.8795 - val_mse: 33.8795\n",
            "Epoch 44/100\n",
            "32/32 [==============================] - 0s 8ms/step - loss: 34.2333 - mse: 34.2333 - val_loss: 33.8795 - val_mse: 33.8795\n",
            "Epoch 45/100\n",
            "32/32 [==============================] - 0s 7ms/step - loss: 34.2333 - mse: 34.2333 - val_loss: 33.8795 - val_mse: 33.8795\n",
            "Epoch 46/100\n",
            "32/32 [==============================] - 0s 6ms/step - loss: 34.2333 - mse: 34.2333 - val_loss: 33.8795 - val_mse: 33.8795\n",
            "Epoch 47/100\n",
            "32/32 [==============================] - 0s 8ms/step - loss: 34.2333 - mse: 34.2333 - val_loss: 33.8795 - val_mse: 33.8795\n",
            "Epoch 48/100\n",
            "32/32 [==============================] - 0s 5ms/step - loss: 34.2333 - mse: 34.2333 - val_loss: 33.8795 - val_mse: 33.8795\n",
            "Epoch 49/100\n",
            "32/32 [==============================] - 0s 7ms/step - loss: 34.2333 - mse: 34.2333 - val_loss: 33.8795 - val_mse: 33.8795\n",
            "Epoch 50/100\n",
            "32/32 [==============================] - 0s 5ms/step - loss: 34.2333 - mse: 34.2333 - val_loss: 33.8795 - val_mse: 33.8795\n",
            "Epoch 51/100\n",
            "32/32 [==============================] - 0s 5ms/step - loss: 34.2333 - mse: 34.2333 - val_loss: 33.8795 - val_mse: 33.8795\n",
            "Epoch 52/100\n",
            "32/32 [==============================] - 0s 5ms/step - loss: 34.2333 - mse: 34.2333 - val_loss: 33.8795 - val_mse: 33.8795\n",
            "Epoch 53/100\n",
            "32/32 [==============================] - 0s 6ms/step - loss: 34.2333 - mse: 34.2333 - val_loss: 33.8795 - val_mse: 33.8795\n",
            "Epoch 54/100\n",
            "32/32 [==============================] - 0s 3ms/step - loss: 34.2333 - mse: 34.2333 - val_loss: 33.8795 - val_mse: 33.8795\n",
            "Epoch 55/100\n",
            "32/32 [==============================] - 0s 3ms/step - loss: 34.2333 - mse: 34.2333 - val_loss: 33.8795 - val_mse: 33.8795\n",
            "Epoch 56/100\n",
            "32/32 [==============================] - 0s 4ms/step - loss: 34.2333 - mse: 34.2333 - val_loss: 33.8795 - val_mse: 33.8795\n",
            "Epoch 57/100\n",
            "32/32 [==============================] - 0s 4ms/step - loss: 34.2333 - mse: 34.2333 - val_loss: 33.8795 - val_mse: 33.8795\n",
            "Epoch 58/100\n",
            "32/32 [==============================] - 0s 3ms/step - loss: 34.2333 - mse: 34.2333 - val_loss: 33.8795 - val_mse: 33.8795\n",
            "Epoch 59/100\n",
            "32/32 [==============================] - 0s 4ms/step - loss: 34.2333 - mse: 34.2333 - val_loss: 33.8795 - val_mse: 33.8795\n",
            "Epoch 60/100\n",
            "32/32 [==============================] - 0s 3ms/step - loss: 34.2333 - mse: 34.2333 - val_loss: 33.8795 - val_mse: 33.8795\n",
            "Epoch 61/100\n",
            "32/32 [==============================] - 0s 3ms/step - loss: 34.2333 - mse: 34.2333 - val_loss: 33.8795 - val_mse: 33.8795\n",
            "Epoch 62/100\n",
            "32/32 [==============================] - 0s 3ms/step - loss: 34.2333 - mse: 34.2333 - val_loss: 33.8795 - val_mse: 33.8795\n",
            "Epoch 63/100\n",
            "32/32 [==============================] - 0s 3ms/step - loss: 34.2333 - mse: 34.2333 - val_loss: 33.8795 - val_mse: 33.8795\n",
            "Epoch 64/100\n",
            "32/32 [==============================] - 0s 3ms/step - loss: 34.2333 - mse: 34.2333 - val_loss: 33.8795 - val_mse: 33.8795\n",
            "Epoch 65/100\n",
            "32/32 [==============================] - 0s 4ms/step - loss: 34.2333 - mse: 34.2333 - val_loss: 33.8795 - val_mse: 33.8795\n",
            "Epoch 66/100\n",
            "32/32 [==============================] - 0s 3ms/step - loss: 34.2333 - mse: 34.2333 - val_loss: 33.8795 - val_mse: 33.8795\n",
            "Epoch 67/100\n",
            "32/32 [==============================] - 0s 3ms/step - loss: 34.2333 - mse: 34.2333 - val_loss: 33.8795 - val_mse: 33.8795\n",
            "Epoch 68/100\n",
            "32/32 [==============================] - 0s 3ms/step - loss: 34.2333 - mse: 34.2333 - val_loss: 33.8795 - val_mse: 33.8795\n",
            "Epoch 69/100\n",
            "32/32 [==============================] - 0s 3ms/step - loss: 34.2333 - mse: 34.2333 - val_loss: 33.8795 - val_mse: 33.8795\n",
            "Epoch 70/100\n",
            "32/32 [==============================] - 0s 4ms/step - loss: 34.2333 - mse: 34.2333 - val_loss: 33.8795 - val_mse: 33.8795\n",
            "Epoch 71/100\n",
            "32/32 [==============================] - 0s 4ms/step - loss: 34.2333 - mse: 34.2333 - val_loss: 33.8795 - val_mse: 33.8795\n",
            "Epoch 72/100\n",
            "32/32 [==============================] - 0s 3ms/step - loss: 34.2333 - mse: 34.2333 - val_loss: 33.8795 - val_mse: 33.8795\n",
            "Epoch 73/100\n",
            "32/32 [==============================] - 0s 4ms/step - loss: 34.2333 - mse: 34.2333 - val_loss: 33.8795 - val_mse: 33.8795\n",
            "Epoch 74/100\n",
            "32/32 [==============================] - 0s 3ms/step - loss: 34.2333 - mse: 34.2333 - val_loss: 33.8795 - val_mse: 33.8795\n",
            "Epoch 75/100\n",
            "32/32 [==============================] - 0s 4ms/step - loss: 34.2333 - mse: 34.2333 - val_loss: 33.8795 - val_mse: 33.8795\n",
            "Epoch 76/100\n",
            "32/32 [==============================] - 0s 4ms/step - loss: 34.2333 - mse: 34.2333 - val_loss: 33.8795 - val_mse: 33.8795\n",
            "Epoch 77/100\n",
            "32/32 [==============================] - 0s 3ms/step - loss: 34.2333 - mse: 34.2333 - val_loss: 33.8795 - val_mse: 33.8795\n",
            "Epoch 78/100\n",
            "32/32 [==============================] - 0s 4ms/step - loss: 34.2333 - mse: 34.2333 - val_loss: 33.8795 - val_mse: 33.8795\n",
            "Epoch 79/100\n",
            "32/32 [==============================] - 0s 4ms/step - loss: 34.2333 - mse: 34.2333 - val_loss: 33.8795 - val_mse: 33.8795\n",
            "Epoch 80/100\n",
            "32/32 [==============================] - 0s 4ms/step - loss: 34.2333 - mse: 34.2333 - val_loss: 33.8795 - val_mse: 33.8795\n",
            "Epoch 81/100\n",
            "32/32 [==============================] - 0s 5ms/step - loss: 34.2333 - mse: 34.2333 - val_loss: 33.8795 - val_mse: 33.8795\n",
            "Epoch 82/100\n",
            "32/32 [==============================] - 0s 4ms/step - loss: 34.2333 - mse: 34.2333 - val_loss: 33.8795 - val_mse: 33.8795\n",
            "Epoch 83/100\n",
            "32/32 [==============================] - 0s 4ms/step - loss: 34.2333 - mse: 34.2333 - val_loss: 33.8795 - val_mse: 33.8795\n",
            "Epoch 84/100\n",
            "32/32 [==============================] - 0s 4ms/step - loss: 34.2333 - mse: 34.2333 - val_loss: 33.8795 - val_mse: 33.8795\n",
            "Epoch 85/100\n",
            "32/32 [==============================] - 0s 4ms/step - loss: 34.2333 - mse: 34.2333 - val_loss: 33.8795 - val_mse: 33.8795\n",
            "Epoch 86/100\n",
            "32/32 [==============================] - 0s 4ms/step - loss: 34.2333 - mse: 34.2333 - val_loss: 33.8795 - val_mse: 33.8795\n",
            "Epoch 87/100\n",
            "32/32 [==============================] - 0s 4ms/step - loss: 34.2333 - mse: 34.2333 - val_loss: 33.8795 - val_mse: 33.8795\n",
            "Epoch 88/100\n",
            "32/32 [==============================] - 0s 4ms/step - loss: 34.2333 - mse: 34.2333 - val_loss: 33.8795 - val_mse: 33.8795\n",
            "Epoch 89/100\n",
            "32/32 [==============================] - 0s 4ms/step - loss: 34.2333 - mse: 34.2333 - val_loss: 33.8795 - val_mse: 33.8795\n",
            "Epoch 90/100\n",
            "32/32 [==============================] - 0s 4ms/step - loss: 34.2333 - mse: 34.2333 - val_loss: 33.8795 - val_mse: 33.8795\n",
            "Epoch 91/100\n",
            "32/32 [==============================] - 0s 4ms/step - loss: 34.2333 - mse: 34.2333 - val_loss: 33.8795 - val_mse: 33.8795\n",
            "Epoch 92/100\n",
            "32/32 [==============================] - 0s 4ms/step - loss: 34.2333 - mse: 34.2333 - val_loss: 33.8795 - val_mse: 33.8795\n",
            "Epoch 93/100\n",
            "32/32 [==============================] - 0s 4ms/step - loss: 34.2333 - mse: 34.2333 - val_loss: 33.8795 - val_mse: 33.8795\n",
            "Epoch 94/100\n",
            "32/32 [==============================] - 0s 3ms/step - loss: 34.2333 - mse: 34.2333 - val_loss: 33.8795 - val_mse: 33.8795\n",
            "Epoch 95/100\n",
            "32/32 [==============================] - 0s 4ms/step - loss: 34.2333 - mse: 34.2333 - val_loss: 33.8795 - val_mse: 33.8795\n",
            "Epoch 96/100\n",
            "32/32 [==============================] - 0s 4ms/step - loss: 34.2333 - mse: 34.2333 - val_loss: 33.8795 - val_mse: 33.8795\n",
            "Epoch 97/100\n",
            "32/32 [==============================] - 0s 4ms/step - loss: 34.2333 - mse: 34.2333 - val_loss: 33.8795 - val_mse: 33.8795\n",
            "Epoch 98/100\n",
            "32/32 [==============================] - 0s 3ms/step - loss: 34.2333 - mse: 34.2333 - val_loss: 33.8795 - val_mse: 33.8795\n",
            "Epoch 99/100\n",
            "32/32 [==============================] - 0s 4ms/step - loss: 34.2333 - mse: 34.2333 - val_loss: 33.8795 - val_mse: 33.8795\n",
            "Epoch 100/100\n",
            "32/32 [==============================] - 0s 4ms/step - loss: 34.2333 - mse: 34.2333 - val_loss: 33.8795 - val_mse: 33.8795\n"
          ]
        },
        {
          "output_type": "execute_result",
          "data": {
            "text/plain": [
              "<keras.src.callbacks.History at 0x7e6000d78f40>"
            ]
          },
          "metadata": {},
          "execution_count": 44
        }
      ],
      "source": [
        "### JOUW CODE HIER\n",
        "model.compile(optimizer=\"adam\", loss=\"mse\", metrics=[\"mse\"])\n",
        "model_check = tf.keras.callbacks.ModelCheckpoint(\"model2.tf\", save_best_only=True, monitor=\"val_loss\")\n",
        "model.fit(X_train, y_train, batch_size=128, epochs=100, validation_data=(X_val, y_val), callbacks=[model_check])\n",
        "### EINDE JOUW CODE HIER"
      ]
    },
    {
      "cell_type": "markdown",
      "metadata": {
        "id": "OFP22zIBfL8h"
      },
      "source": [
        "(n) Accuraatheid tweede model."
      ]
    },
    {
      "cell_type": "code",
      "source": [
        "model2.predict(X_val).shape"
      ],
      "metadata": {
        "colab": {
          "base_uri": "https://localhost:8080/"
        },
        "id": "oddVxXSHojtT",
        "outputId": "01654ef0-77ad-4ace-8829-39e38da6a388"
      },
      "execution_count": 46,
      "outputs": [
        {
          "output_type": "stream",
          "name": "stdout",
          "text": [
            "29/29 [==============================] - 0s 3ms/step\n"
          ]
        },
        {
          "output_type": "execute_result",
          "data": {
            "text/plain": [
              "(898, 1)"
            ]
          },
          "metadata": {},
          "execution_count": 46
        }
      ]
    },
    {
      "cell_type": "code",
      "execution_count": 48,
      "metadata": {
        "tags": [],
        "colab": {
          "base_uri": "https://localhost:8080/"
        },
        "id": "UlcyQVdhfL8h",
        "outputId": "c8e1dd10-d52b-4d96-fb2b-91081a0cf77a"
      },
      "outputs": [
        {
          "output_type": "stream",
          "name": "stdout",
          "text": [
            "29/29 [==============================] - 0s 2ms/step\n",
            "3.704559160103956e+78\n"
          ]
        }
      ],
      "source": [
        "def accuracy(labels, raw_predictions):\n",
        "    ### JOUW CODE HIER\n",
        "    total_error = 0.0\n",
        "    total_samples = 0\n",
        "    for item in raw_predictions:\n",
        "        labels = labels * sigma[-1] + mu[-1]\n",
        "        total_error += np.sum(np.abs(labels - item))\n",
        "        total_samples += item.shape[0]\n",
        "\n",
        "    return total_error / total_samples\n",
        "\n",
        "print(accuracy(y_val, model2.predict(X_val)))\n",
        "    ### EINDE JOUW CODE HIER"
      ]
    },
    {
      "cell_type": "markdown",
      "metadata": {
        "id": "AqpZIWiXfL8h"
      },
      "source": [
        "## Vraag 2: Xception"
      ]
    },
    {
      "cell_type": "markdown",
      "metadata": {
        "id": "P00aoI44fL8h"
      },
      "source": [
        "(a) Schrijf hieronder code voor `DefaultSeparableConv`."
      ]
    },
    {
      "cell_type": "code",
      "execution_count": 53,
      "metadata": {
        "id": "wcZnTTcJfL8i"
      },
      "outputs": [],
      "source": [
        "### JOUW CODE HIER\n",
        "DefaultSeparableConv = partial(tf.keras.layers.SeparableConv2D,\n",
        "                               kernel_size=(3,3))\n",
        "### EINDE JOUW CODE HIER"
      ]
    },
    {
      "cell_type": "markdown",
      "metadata": {
        "id": "s6CaEdORfL8i"
      },
      "source": [
        "(b) Schrijf hieronder code voor `XceptionModule`"
      ]
    },
    {
      "cell_type": "code",
      "execution_count": 66,
      "metadata": {
        "id": "pRRh9ycgfL8i"
      },
      "outputs": [],
      "source": [
        "### JOUW CODE HIER\n",
        "class XceptionModule(tf.keras.layers.Layer):\n",
        "  def __init__(self, filters, use_max_pool=False, **kwargs):\n",
        "        super().__init__(**kwargs)\n",
        "\n",
        "        main_path = []\n",
        "        skip_path = []\n",
        "\n",
        "        self.use_max_pool = use_max_pool\n",
        "        self.conv1 = DefaultSeparableConv(filters=256)\n",
        "        self.conv2 = DefaultSeparableConv(filters=728)\n",
        "        self.activation = tf.keras.layers.ReLU()\n",
        "        self.maxpool =  tf.keras.layers.MaxPool2D(pool_size=(3,3), strides=(2,2))\n",
        "        self.conv_skip = tf.keras.layers.Conv2D(filters, kernel_size=(1, 1), strides=(2,2))\n",
        "\n",
        "  def call(self, inputs):\n",
        "\n",
        "    if self.use_max_pool:\n",
        "      skip = inputs\n",
        "      inputs = self.maxpool(inputs)\n",
        "      inputs = self.conv1(inputs)\n",
        "      inputs = self.activation(inputs)\n",
        "      inputs = self.conv1(inputs)\n",
        "      inputs = self.activation(inputs)\n",
        "\n",
        "      skip = self.conv_skip(skip)\n",
        "      inputs = tf.keras.layers.Add()[skip, inputs]\n",
        "      return inputs\n",
        "\n",
        "    else:\n",
        "      skip = inputs\n",
        "      inputs = self.conv2(inputs)\n",
        "      inputs = self.activation(inputs)\n",
        "      inputs = self.conv2(inputs)\n",
        "      inputs = self.activation(inputs)\n",
        "      inputs = self.conv2(inputs)\n",
        "      inputs = self.activation(inputs)\n",
        "\n",
        "      inputs = tf.keras.layers.Add()[skip, inputs]\n",
        "      return inputs\n",
        "### EINDE JOUW CODE HIER"
      ]
    },
    {
      "cell_type": "markdown",
      "metadata": {
        "id": "s2iDGb1vfL8i"
      },
      "source": [
        "(c) Hieronder kan je code schrijven om de kleine vraagjes op het antwoordblad op te lossen.\n",
        "Deze code wordt als dusdanig niet gequoteerd."
      ]
    },
    {
      "cell_type": "code",
      "execution_count": 177,
      "metadata": {
        "colab": {
          "base_uri": "https://localhost:8080/",
          "height": 477
        },
        "id": "A9W044NifL8i",
        "outputId": "500ffd37-c4b4-48d3-c807-1acf6ad6791a"
      },
      "outputs": [
        {
          "output_type": "error",
          "ename": "ValueError",
          "evalue": "Exception encountered when calling layer 'xception_module_7' (type XceptionModule).\n\nInput 0 of layer \"separable_conv2d_15\" is incompatible with the layer: expected axis -1 of input shape to have value 64, but received input with shape (2, 98, 98, 728)\n\nCall arguments received by layer 'xception_module_7' (type XceptionModule):\n  • inputs=tf.Tensor(shape=(2, 100, 100, 64), dtype=float32)",
          "traceback": [
            "\u001b[0;31m---------------------------------------------------------------------------\u001b[0m",
            "\u001b[0;31mValueError\u001b[0m                                Traceback (most recent call last)",
            "\u001b[0;32m<ipython-input-177-7ea5e677993d>\u001b[0m in \u001b[0;36m<cell line: 6>\u001b[0;34m()\u001b[0m\n\u001b[1;32m      4\u001b[0m \u001b[0;34m\u001b[0m\u001b[0m\n\u001b[1;32m      5\u001b[0m \u001b[0mX\u001b[0m \u001b[0;34m=\u001b[0m \u001b[0mtf\u001b[0m\u001b[0;34m.\u001b[0m\u001b[0mrandom\u001b[0m\u001b[0;34m.\u001b[0m\u001b[0muniform\u001b[0m\u001b[0;34m(\u001b[0m\u001b[0mshape\u001b[0m\u001b[0;34m=\u001b[0m\u001b[0;34m(\u001b[0m\u001b[0;36m2\u001b[0m\u001b[0;34m,\u001b[0m \u001b[0;36m100\u001b[0m\u001b[0;34m,\u001b[0m \u001b[0;36m100\u001b[0m\u001b[0;34m,\u001b[0m \u001b[0;36m64\u001b[0m\u001b[0;34m)\u001b[0m\u001b[0;34m)\u001b[0m\u001b[0;34m\u001b[0m\u001b[0;34m\u001b[0m\u001b[0m\n\u001b[0;32m----> 6\u001b[0;31m \u001b[0mxception\u001b[0m\u001b[0;34m(\u001b[0m\u001b[0mX\u001b[0m\u001b[0;34m)\u001b[0m\u001b[0;34m\u001b[0m\u001b[0;34m\u001b[0m\u001b[0m\n\u001b[0m\u001b[1;32m      7\u001b[0m \u001b[0;31m### EINDE JOUW CODE HIER\u001b[0m\u001b[0;34m\u001b[0m\u001b[0;34m\u001b[0m\u001b[0m\n",
            "\u001b[0;32m/usr/local/lib/python3.10/dist-packages/keras/src/utils/traceback_utils.py\u001b[0m in \u001b[0;36merror_handler\u001b[0;34m(*args, **kwargs)\u001b[0m\n\u001b[1;32m     68\u001b[0m             \u001b[0;31m# To get the full stack trace, call:\u001b[0m\u001b[0;34m\u001b[0m\u001b[0;34m\u001b[0m\u001b[0m\n\u001b[1;32m     69\u001b[0m             \u001b[0;31m# `tf.debugging.disable_traceback_filtering()`\u001b[0m\u001b[0;34m\u001b[0m\u001b[0;34m\u001b[0m\u001b[0m\n\u001b[0;32m---> 70\u001b[0;31m             \u001b[0;32mraise\u001b[0m \u001b[0me\u001b[0m\u001b[0;34m.\u001b[0m\u001b[0mwith_traceback\u001b[0m\u001b[0;34m(\u001b[0m\u001b[0mfiltered_tb\u001b[0m\u001b[0;34m)\u001b[0m \u001b[0;32mfrom\u001b[0m \u001b[0;32mNone\u001b[0m\u001b[0;34m\u001b[0m\u001b[0;34m\u001b[0m\u001b[0m\n\u001b[0m\u001b[1;32m     71\u001b[0m         \u001b[0;32mfinally\u001b[0m\u001b[0;34m:\u001b[0m\u001b[0;34m\u001b[0m\u001b[0;34m\u001b[0m\u001b[0m\n\u001b[1;32m     72\u001b[0m             \u001b[0;32mdel\u001b[0m \u001b[0mfiltered_tb\u001b[0m\u001b[0;34m\u001b[0m\u001b[0;34m\u001b[0m\u001b[0m\n",
            "\u001b[0;32m<ipython-input-66-55f14c74b568>\u001b[0m in \u001b[0;36mcall\u001b[0;34m(self, inputs)\u001b[0m\n\u001b[1;32m     32\u001b[0m       \u001b[0minputs\u001b[0m \u001b[0;34m=\u001b[0m \u001b[0mself\u001b[0m\u001b[0;34m.\u001b[0m\u001b[0mconv2\u001b[0m\u001b[0;34m(\u001b[0m\u001b[0minputs\u001b[0m\u001b[0;34m)\u001b[0m\u001b[0;34m\u001b[0m\u001b[0;34m\u001b[0m\u001b[0m\n\u001b[1;32m     33\u001b[0m       \u001b[0minputs\u001b[0m \u001b[0;34m=\u001b[0m \u001b[0mself\u001b[0m\u001b[0;34m.\u001b[0m\u001b[0mactivation\u001b[0m\u001b[0;34m(\u001b[0m\u001b[0minputs\u001b[0m\u001b[0;34m)\u001b[0m\u001b[0;34m\u001b[0m\u001b[0;34m\u001b[0m\u001b[0m\n\u001b[0;32m---> 34\u001b[0;31m       \u001b[0minputs\u001b[0m \u001b[0;34m=\u001b[0m \u001b[0mself\u001b[0m\u001b[0;34m.\u001b[0m\u001b[0mconv2\u001b[0m\u001b[0;34m(\u001b[0m\u001b[0minputs\u001b[0m\u001b[0;34m)\u001b[0m\u001b[0;34m\u001b[0m\u001b[0;34m\u001b[0m\u001b[0m\n\u001b[0m\u001b[1;32m     35\u001b[0m       \u001b[0minputs\u001b[0m \u001b[0;34m=\u001b[0m \u001b[0mself\u001b[0m\u001b[0;34m.\u001b[0m\u001b[0mactivation\u001b[0m\u001b[0;34m(\u001b[0m\u001b[0minputs\u001b[0m\u001b[0;34m)\u001b[0m\u001b[0;34m\u001b[0m\u001b[0;34m\u001b[0m\u001b[0m\n\u001b[1;32m     36\u001b[0m       \u001b[0minputs\u001b[0m \u001b[0;34m=\u001b[0m \u001b[0mself\u001b[0m\u001b[0;34m.\u001b[0m\u001b[0mconv2\u001b[0m\u001b[0;34m(\u001b[0m\u001b[0minputs\u001b[0m\u001b[0;34m)\u001b[0m\u001b[0;34m\u001b[0m\u001b[0;34m\u001b[0m\u001b[0m\n",
            "\u001b[0;31mValueError\u001b[0m: Exception encountered when calling layer 'xception_module_7' (type XceptionModule).\n\nInput 0 of layer \"separable_conv2d_15\" is incompatible with the layer: expected axis -1 of input shape to have value 64, but received input with shape (2, 98, 98, 728)\n\nCall arguments received by layer 'xception_module_7' (type XceptionModule):\n  • inputs=tf.Tensor(shape=(2, 100, 100, 64), dtype=float32)"
          ]
        }
      ],
      "source": [
        "### JOUW CODE HIER\n",
        "xception = XceptionModule(filters=64, use_max_pool=False)\n",
        "xception2 = XceptionModule(filters=64, use_max_pool=True)\n",
        "\n",
        "X = tf.random.uniform(shape=(2, 100, 100, 64))\n",
        "xception(X)\n",
        "### EINDE JOUW CODE HIER"
      ]
    },
    {
      "cell_type": "markdown",
      "metadata": {
        "id": "VfphwV1WfL8i"
      },
      "source": [
        "## Vraag 3: Jena Dataset"
      ]
    },
    {
      "cell_type": "code",
      "execution_count": 71,
      "metadata": {
        "colab": {
          "base_uri": "https://localhost:8080/"
        },
        "id": "rHmRWa99fL8m",
        "outputId": "cb6cb535-1692-4540-9b45-b2b1cf8bd165"
      },
      "outputs": [
        {
          "output_type": "execute_result",
          "data": {
            "text/plain": [
              "(225064, 14)"
            ]
          },
          "metadata": {},
          "execution_count": 71
        }
      ],
      "source": [
        "# Deze code maakt een numpy-array \"raw_data\"\n",
        "FILE_PATH = \"./jena_climate_2009_2016.csv\"\n",
        "raw_data = pd.read_csv(FILE_PATH).drop(\"Date Time\", axis=\"columns\").values\n",
        "raw_data.shape # Moet printen (420451, 14)"
      ]
    },
    {
      "cell_type": "code",
      "execution_count": 72,
      "metadata": {
        "id": "u9oFruH4fL8m"
      },
      "outputs": [],
      "source": [
        "# Deze code creëert een Dataset bestaande uit tupels\n",
        "def create_ds(raw_data, target):\n",
        "    sampling_rate=6\n",
        "    sequence_length=120\n",
        "    delay=sampling_rate * (sequence_length + 24 -1)\n",
        "    return tf.keras.utils.timeseries_dataset_from_array(\n",
        "        data=raw_data,\n",
        "        targets=target[delay:],\n",
        "        sampling_rate=sampling_rate,\n",
        "        sequence_length=sequence_length,\n",
        "        shuffle=False,\n",
        "        batch_size=None\n",
        "    )"
      ]
    },
    {
      "cell_type": "code",
      "execution_count": 81,
      "metadata": {
        "colab": {
          "base_uri": "https://localhost:8080/"
        },
        "id": "BkjjzNVbfL8m",
        "outputId": "cd0783c6-158a-4683-f656-cef250e5def3"
      },
      "outputs": [
        {
          "output_type": "stream",
          "name": "stdout",
          "text": [
            "[  0   6  12  18  24  30  36  42  48  54  60  66  72  78  84  90  96 102\n",
            " 108 114 120 126 132 138 144 150 156 162 168 174 180 186 192 198 204 210\n",
            " 216 222 228 234 240 246 252 258 264 270 276 282 288 294 300 306 312 318\n",
            " 324 330 336 342 348 354 360 366 372 378 384 390 396 402 408 414 420 426\n",
            " 432 438 444 450 456 462 468 474 480 486 492 498 504 510 516 522 528 534\n",
            " 540 546 552 558 564 570 576 582 588 594 600 606 612 618 624 630 636 642\n",
            " 648 654 660 666 672 678 684 690 696 702 708 714]\n",
            "(120,)\n",
            "858\n",
            "**************************************************\n",
            "[  1   7  13  19  25  31  37  43  49  55  61  67  73  79  85  91  97 103\n",
            " 109 115 121 127 133 139 145 151 157 163 169 175 181 187 193 199 205 211\n",
            " 217 223 229 235 241 247 253 259 265 271 277 283 289 295 301 307 313 319\n",
            " 325 331 337 343 349 355 361 367 373 379 385 391 397 403 409 415 421 427\n",
            " 433 439 445 451 457 463 469 475 481 487 493 499 505 511 517 523 529 535\n",
            " 541 547 553 559 565 571 577 583 589 595 601 607 613 619 625 631 637 643\n",
            " 649 655 661 667 673 679 685 691 697 703 709 715]\n",
            "(120,)\n",
            "859\n",
            "**************************************************\n",
            "[  2   8  14  20  26  32  38  44  50  56  62  68  74  80  86  92  98 104\n",
            " 110 116 122 128 134 140 146 152 158 164 170 176 182 188 194 200 206 212\n",
            " 218 224 230 236 242 248 254 260 266 272 278 284 290 296 302 308 314 320\n",
            " 326 332 338 344 350 356 362 368 374 380 386 392 398 404 410 416 422 428\n",
            " 434 440 446 452 458 464 470 476 482 488 494 500 506 512 518 524 530 536\n",
            " 542 548 554 560 566 572 578 584 590 596 602 608 614 620 626 632 638 644\n",
            " 650 656 662 668 674 680 686 692 698 704 710 716]\n",
            "(120,)\n",
            "860\n",
            "**************************************************\n"
          ]
        }
      ],
      "source": [
        "# Voorbeeld met énkel indices\n",
        "example_data = np.arange(2000)\n",
        "example_ds = create_ds(example_data, example_data)\n",
        "for features, target in example_ds.take(3):\n",
        "    print(f\"{features}\")\n",
        "    print(features.shape)\n",
        "    print(f\"{target}\")\n",
        "    print(\"*\"*50)"
      ]
    },
    {
      "cell_type": "markdown",
      "metadata": {
        "id": "iJuzysnNfL8m"
      },
      "source": [
        "(a) Vervolledig de methode `create_ds_with_window`."
      ]
    },
    {
      "cell_type": "code",
      "execution_count": 218,
      "metadata": {
        "id": "AAprZVmKfL8m"
      },
      "outputs": [],
      "source": [
        "def create_ds_with_window(raw_data):\n",
        "    ds = tf.data.Dataset.from_tensor_slices(raw_data)\n",
        "    return (ds.\n",
        "            window(size=120+24, shift=1, stride=6, drop_remainder=True)\n",
        "            .flat_map(lambda x: x.batch(120+24))\n",
        "            .map(lambda x: (x[:120], x[-1, 1]))\n",
        "           )"
      ]
    },
    {
      "cell_type": "code",
      "execution_count": 219,
      "metadata": {
        "colab": {
          "base_uri": "https://localhost:8080/"
        },
        "id": "3gVGll0ufL8m",
        "outputId": "3b19ec20-6a6c-461b-866b-d45c614b0698"
      },
      "outputs": [
        {
          "output_type": "stream",
          "name": "stdout",
          "text": [
            "Alle testen geslaagd\n"
          ]
        }
      ],
      "source": [
        "# Deze code controleert je antwoord op de vorige vraag\n",
        "for item1, item2 in zip(create_ds_with_window(raw_data).take(10),\n",
        "                    create_ds(raw_data, target=raw_data[:, 1]).take(10)):\n",
        "    assert np.allclose(item1[0], item2[0]), \"Sequenties niet gelijk\"\n",
        "    assert np.allclose(item1[1], item2[1]), \"Targets niet gelijk\"\n",
        "\n",
        "print(\"Alle testen geslaagd\")"
      ]
    },
    {
      "cell_type": "markdown",
      "metadata": {
        "id": "RLbL-AZ-fL8m"
      },
      "source": [
        "(b) Vervolledig de methode `create_seq_to_seq_ds_aux`."
      ]
    },
    {
      "cell_type": "code",
      "execution_count": 234,
      "metadata": {
        "id": "JgVOlgsyfL8n"
      },
      "outputs": [],
      "source": [
        "def create_seq_to_seq_ds_aux(dataset):\n",
        "    return (dataset.\n",
        "            window(size=120+24, shift=1, stride=6)\n",
        "            .flat_map(lambda x: x.batch(120+24))\n",
        "            .window(size=120, shift=1)\n",
        "            .flat_map(lambda x: x.batch(2))\n",
        "            .map(lambda x: (x[0][:120], x[1][24:]))\n",
        "           )"
      ]
    },
    {
      "cell_type": "code",
      "execution_count": 235,
      "metadata": {
        "colab": {
          "base_uri": "https://localhost:8080/",
          "height": 245
        },
        "id": "cH5LXk5MfL8n",
        "outputId": "42bc4501-adb5-427f-d3b8-3f0d66531fc0"
      },
      "outputs": [
        {
          "output_type": "error",
          "ename": "AssertionError",
          "evalue": "",
          "traceback": [
            "\u001b[0;31m---------------------------------------------------------------------------\u001b[0m",
            "\u001b[0;31mAssertionError\u001b[0m                            Traceback (most recent call last)",
            "\u001b[0;32m<ipython-input-235-c1a9be82ebdd>\u001b[0m in \u001b[0;36m<cell line: 2>\u001b[0;34m()\u001b[0m\n\u001b[1;32m      2\u001b[0m \u001b[0;32mfor\u001b[0m \u001b[0mitem\u001b[0m\u001b[0;34m,\u001b[0m \u001b[0mtarget\u001b[0m \u001b[0;32min\u001b[0m \u001b[0mcreate_seq_to_seq_ds_aux\u001b[0m\u001b[0;34m(\u001b[0m\u001b[0mtf\u001b[0m\u001b[0;34m.\u001b[0m\u001b[0mdata\u001b[0m\u001b[0;34m.\u001b[0m\u001b[0mDataset\u001b[0m\u001b[0;34m.\u001b[0m\u001b[0mfrom_tensor_slices\u001b[0m\u001b[0;34m(\u001b[0m\u001b[0mraw_data\u001b[0m\u001b[0;34m)\u001b[0m\u001b[0;34m)\u001b[0m\u001b[0;34m.\u001b[0m\u001b[0mtake\u001b[0m\u001b[0;34m(\u001b[0m\u001b[0;36m3\u001b[0m\u001b[0;34m)\u001b[0m\u001b[0;34m:\u001b[0m\u001b[0;34m\u001b[0m\u001b[0;34m\u001b[0m\u001b[0m\n\u001b[1;32m      3\u001b[0m   \u001b[0;32massert\u001b[0m \u001b[0mitem\u001b[0m\u001b[0;34m.\u001b[0m\u001b[0mshape\u001b[0m \u001b[0;34m==\u001b[0m \u001b[0;34m(\u001b[0m\u001b[0;36m120\u001b[0m\u001b[0;34m,\u001b[0m \u001b[0;36m14\u001b[0m\u001b[0;34m)\u001b[0m\u001b[0;34m\u001b[0m\u001b[0;34m\u001b[0m\u001b[0m\n\u001b[0;32m----> 4\u001b[0;31m   \u001b[0;32massert\u001b[0m \u001b[0mtarget\u001b[0m\u001b[0;34m.\u001b[0m\u001b[0mshape\u001b[0m \u001b[0;34m==\u001b[0m \u001b[0;34m(\u001b[0m\u001b[0;36m120\u001b[0m\u001b[0;34m,\u001b[0m\u001b[0;34m)\u001b[0m\u001b[0;34m\u001b[0m\u001b[0;34m\u001b[0m\u001b[0m\n\u001b[0m\u001b[1;32m      5\u001b[0m \u001b[0;34m\u001b[0m\u001b[0m\n\u001b[1;32m      6\u001b[0m \u001b[0mprint\u001b[0m\u001b[0;34m(\u001b[0m\u001b[0;34m\"Alle testen geslaagd. De shapes zijn correct\"\u001b[0m\u001b[0;34m)\u001b[0m\u001b[0;34m\u001b[0m\u001b[0;34m\u001b[0m\u001b[0m\n",
            "\u001b[0;31mAssertionError\u001b[0m: "
          ]
        }
      ],
      "source": [
        "# Test code\n",
        "for item, target in create_seq_to_seq_ds_aux(tf.data.Dataset.from_tensor_slices(raw_data)).take(3):\n",
        "  assert item.shape == (120, 14)\n",
        "  assert target.shape == (120,)\n",
        "\n",
        "print(\"Alle testen geslaagd. De shapes zijn correct\")"
      ]
    },
    {
      "cell_type": "markdown",
      "metadata": {
        "id": "kU-nmH2ffL8n"
      },
      "source": [
        "(c) Vervolledig de methode `create_seq_to_seq_ds`."
      ]
    },
    {
      "cell_type": "code",
      "execution_count": 190,
      "metadata": {
        "id": "4y6dYzQkfL8n"
      },
      "outputs": [],
      "source": [
        "def create_seq_to_seq_ds(raw_data):\n",
        "    ds = tf.data.Dataset.from_tensor_slices(raw_data)\n",
        "    return tf.data.Dataset.range(6).interleave(\n",
        "        lambda i : tf.data.TextLineDataset(i))"
      ]
    }
  ],
  "metadata": {
    "kernelspec": {
      "display_name": "Python 3",
      "name": "python3"
    },
    "language_info": {
      "codemirror_mode": {
        "name": "ipython",
        "version": 3
      },
      "file_extension": ".py",
      "mimetype": "text/x-python",
      "name": "python",
      "nbconvert_exporter": "python",
      "pygments_lexer": "ipython3",
      "version": "3.9.12"
    },
    "colab": {
      "provenance": [],
      "gpuType": "T4"
    }
  },
  "nbformat": 4,
  "nbformat_minor": 0
}