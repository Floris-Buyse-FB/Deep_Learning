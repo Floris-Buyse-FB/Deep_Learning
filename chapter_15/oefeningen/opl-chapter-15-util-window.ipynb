{
  "cells": [
    {
      "attachments": {},
      "cell_type": "markdown",
      "metadata": {},
      "source": [
        "## Exercise on manipulating `timeseries_dataset_from_array` and `window` functions"
      ]
    },
    {
      "cell_type": "code",
      "execution_count": null,
      "metadata": {
        "id": "NXsWNOyYC3uI"
      },
      "outputs": [],
      "source": [
        "import tensorflow as tf\n",
        "import numpy as np"
      ]
    },
    {
      "cell_type": "code",
      "execution_count": null,
      "metadata": {
        "id": "U0vqyeZ3DEAo"
      },
      "outputs": [],
      "source": [
        "# Some artificial univariate time series data\n",
        "data = np.arange(0,100)"
      ]
    },
    {
      "cell_type": "code",
      "execution_count": null,
      "metadata": {
        "id": "9zSbW4qQDwQ8"
      },
      "outputs": [],
      "source": [
        "# Use tf.keras.utils.timeseries_dataset_from_array to\n",
        "# - chop the data into 10 non-overlapping windows of length 10\n",
        "# - the resulting dataset should contain individual items\n",
        "ds1 = tf.keras.utils.timeseries_dataset_from_array(\n",
        "    data,\n",
        "    targets=None,\n",
        "    sequence_length=10,\n",
        "    sequence_stride=10,\n",
        "    batch_size=None\n",
        ")"
      ]
    },
    {
      "cell_type": "code",
      "execution_count": null,
      "metadata": {
        "colab": {
          "base_uri": "https://localhost:8080/"
        },
        "id": "8KhMAjVtEkzO",
        "outputId": "1533bebb-964c-4c63-817b-75caf7a4c17e"
      },
      "outputs": [],
      "source": [
        "for item in ds1:\n",
        "    print(f\"{item} {item.shape}\")\n",
        "    print(\"*\"*50)"
      ]
    },
    {
      "cell_type": "code",
      "execution_count": null,
      "metadata": {
        "colab": {
          "base_uri": "https://localhost:8080/"
        },
        "id": "Rk_2mKwuHofv",
        "outputId": "5cd93778-c3cb-4d90-d39b-29555dd4871b"
      },
      "outputs": [],
      "source": [
        "# Same exercise using `window`. Start with tf.data.Dataset.range(100)\n",
        "ds1_window = tf.data.Dataset.range(100).window(\n",
        "    size=10,\n",
        ").flat_map(lambda ds : ds.batch(10))\n",
        "\n",
        "for item in ds1_window:\n",
        "    print(f\"{item} {item.shape}\")\n",
        "    print(\"*\"*50)"
      ]
    },
    {
      "cell_type": "code",
      "execution_count": null,
      "metadata": {
        "id": "c4qxhiplGtBl"
      },
      "outputs": [],
      "source": [
        "# Use tf.keras.utils.timeseries_dataset_from_array to\n",
        "# - chop the data into 10 non-overlapping windows of length 10\n",
        "# - the resulting dataset should contain batches of three elements\n",
        "ds2 = tf.keras.utils.timeseries_dataset_from_array(\n",
        "    data,\n",
        "    targets=None,\n",
        "    sequence_length=10,\n",
        "    sequence_stride=10,\n",
        "    batch_size=3\n",
        ")"
      ]
    },
    {
      "cell_type": "code",
      "execution_count": null,
      "metadata": {
        "colab": {
          "base_uri": "https://localhost:8080/"
        },
        "id": "F2gaSwaoHK9e",
        "outputId": "df06a5a2-023c-4937-efd1-b7c625dfa3ed"
      },
      "outputs": [],
      "source": [
        "for item in ds2:\n",
        "    print(f\"{item} {item.shape}\")\n",
        "    print(\"*\"*50)"
      ]
    },
    {
      "cell_type": "code",
      "execution_count": null,
      "metadata": {
        "id": "Sa2crCuhIYHj"
      },
      "outputs": [],
      "source": [
        "ds2_window = tf.data.Dataset.range(100).window(\n",
        "    size=10,\n",
        ").flat_map(lambda ds : ds.batch(10)).batch(3)"
      ]
    },
    {
      "cell_type": "code",
      "execution_count": null,
      "metadata": {
        "colab": {
          "base_uri": "https://localhost:8080/"
        },
        "id": "jYxr4pVRHeQB",
        "outputId": "b33a3040-1766-43cd-d94b-e3e7b31db0ff"
      },
      "outputs": [],
      "source": [
        "for item in ds2_window:\n",
        "    print(f\"{item} {item.shape}\")\n",
        "    print(\"*\"*50)"
      ]
    },
    {
      "cell_type": "code",
      "execution_count": null,
      "metadata": {
        "id": "LwPSfbHLJVp8"
      },
      "outputs": [],
      "source": [
        "# Use tf.keras.utils.timeseries_dataset_from_array to\n",
        "# - chop the data into windows of length 10\n",
        "# - consecutive windows should have 5 elements in common\n",
        "# - the resulting dataset should contain batches of three elements\n",
        "ds3 = tf.keras.utils.timeseries_dataset_from_array(\n",
        "    data,\n",
        "    targets=None,\n",
        "    sequence_length=10,\n",
        "    sequence_stride=5,\n",
        "    batch_size=3\n",
        ")"
      ]
    },
    {
      "cell_type": "code",
      "execution_count": null,
      "metadata": {
        "colab": {
          "base_uri": "https://localhost:8080/"
        },
        "id": "yGEYRGJRJl1j",
        "outputId": "6686b792-19bf-4d09-8371-8298698da4ba"
      },
      "outputs": [],
      "source": [
        "for item in ds3:\n",
        "    print(f\"{item} {item.shape}\")\n",
        "    print(\"*\"*50)"
      ]
    },
    {
      "cell_type": "code",
      "execution_count": null,
      "metadata": {
        "id": "j-2CWAc6KE2l"
      },
      "outputs": [],
      "source": [
        "ds3_window = (tf.data.Dataset.range(100).\n",
        "  window(size=10, shift=5, drop_remainder=True).\n",
        "  flat_map(lambda ds : ds.batch(10)).\n",
        "  batch(3)\n",
        ")"
      ]
    },
    {
      "cell_type": "code",
      "execution_count": null,
      "metadata": {
        "colab": {
          "base_uri": "https://localhost:8080/"
        },
        "id": "8q6nPlrOKZhl",
        "outputId": "c9f6b60d-b3b6-42d6-c009-dba2ce575250"
      },
      "outputs": [],
      "source": [
        "for item in ds3_window:\n",
        "    print(f\"{item} {item.shape}\")\n",
        "    print(\"*\"*50)"
      ]
    },
    {
      "cell_type": "code",
      "execution_count": null,
      "metadata": {
        "id": "CsvK6699Lbm6"
      },
      "outputs": [],
      "source": [
        "# Use tf.keras.utils.timeseries_dataset_from_array to\n",
        "# - chop the data into windows of length 10\n",
        "# - consecutive windows should have 5 elements in common\n",
        "# - the target for each window is the element immediately following this window\n",
        "ds4 = tf.keras.utils.timeseries_dataset_from_array(\n",
        "    data,\n",
        "    targets=data[10:],\n",
        "    sequence_length=10,\n",
        "    sequence_stride=5,\n",
        "    batch_size=None\n",
        ")\n"
      ]
    },
    {
      "cell_type": "code",
      "execution_count": null,
      "metadata": {
        "colab": {
          "base_uri": "https://localhost:8080/"
        },
        "id": "MT9z9gDyLxIU",
        "outputId": "a9082cb9-2d60-4084-d84a-7e548c19ab5e"
      },
      "outputs": [],
      "source": [
        "for item, label in ds4:\n",
        "    print(f\"{item} maps to {label} and has shape {item.shape}\")\n",
        "    print(\"*\"*50)"
      ]
    },
    {
      "cell_type": "code",
      "execution_count": null,
      "metadata": {
        "id": "zQfk4_MIMSAJ"
      },
      "outputs": [],
      "source": [
        "ds4_windows = (tf.data.Dataset.range(100).\n",
        "               window(size=11, shift=5, drop_remainder=True).\n",
        "               flat_map(lambda ds : ds.batch(11)).\n",
        "               map(lambda series : (series[:-1], series[-1]))\n",
        ")"
      ]
    },
    {
      "cell_type": "code",
      "execution_count": null,
      "metadata": {
        "colab": {
          "base_uri": "https://localhost:8080/"
        },
        "id": "lyvzqS0hMuN8",
        "outputId": "7ae5ac54-1c51-4253-b444-dd3d262cc789"
      },
      "outputs": [],
      "source": [
        "for item, label in ds4_windows:\n",
        "    print(f\"{item} maps to {label} and has shape {item.shape}\")\n",
        "    print(\"*\"*50)"
      ]
    },
    {
      "cell_type": "code",
      "execution_count": null,
      "metadata": {
        "id": "bGeaUMo9CdMG"
      },
      "outputs": [],
      "source": [
        "# Try to \"predict\" multiple values in one go\n",
        "# Inputs: windows of length 5\n",
        "# Targets: windows of length 2\n",
        "# Thus [0,1,2,3,4] -> [5,6]\n",
        "#      [1,2,3,4,5] -> [6,7]\n",
        "# No batching\n",
        "# Solve using \"window\". Start with windows of length 7.\n",
        "ds5_windows = tf.data.Dataset.range(100).window(\n",
        "    size=7,\n",
        "    shift=1,\n",
        "    drop_remainder=True\n",
        ").flat_map(lambda ds : ds.batch(7)\n",
        ").map(lambda S : (S[:5], S[-2:]))"
      ]
    },
    {
      "cell_type": "code",
      "execution_count": null,
      "metadata": {
        "colab": {
          "base_uri": "https://localhost:8080/"
        },
        "id": "muvWvzX8D3fJ",
        "outputId": "41770a7d-30a9-48c2-c87f-4f027ff51fac"
      },
      "outputs": [],
      "source": [
        "for item, label in ds5_windows:\n",
        "    print(f\"{item} maps to {label} and has shape {item.shape}\")\n",
        "    print(\"*\"*50)"
      ]
    },
    {
      "cell_type": "code",
      "execution_count": null,
      "metadata": {
        "id": "cZ7blWdnEE7B"
      },
      "outputs": [],
      "source": [
        "# Add shuffling (seed=42) and batching (batches of size 10) to the previous exercise\n",
        "ds6_windows = (tf.data.Dataset.range(100).window(\n",
        "    size=7,\n",
        "    shift=1,\n",
        "    drop_remainder=True)\n",
        "  .flat_map(lambda ds : ds.batch(7))\n",
        "  .map(lambda S : (S[:5], S[-2:]))\n",
        "  .shuffle(buffer_size=1000, seed=42)\n",
        "  .batch(10)\n",
        ")"
      ]
    },
    {
      "cell_type": "code",
      "execution_count": null,
      "metadata": {
        "colab": {
          "base_uri": "https://localhost:8080/"
        },
        "id": "QXdFgJwbExXl",
        "outputId": "6068405e-41c2-4465-af4b-77fa8da08d1c"
      },
      "outputs": [],
      "source": [
        "for item, label in ds6_windows:\n",
        "    print(f\"{item} maps to {label} and has shape {item.shape}\")\n",
        "    print(\"*\"*50)"
      ]
    },
    {
      "cell_type": "code",
      "execution_count": null,
      "metadata": {
        "id": "1SlSYddMFIQO"
      },
      "outputs": [],
      "source": [
        "# Sequence to sequence model\n",
        "# Input sequences of length 5\n",
        "# Targets: sequences of length 5, shifted one to the right.\n",
        "#          Thus when the input sequence is [0,1,2,3,4], the target\n",
        "#          sequence is [1,2,3,4,5]\n",
        "# No batching\n",
        "ds7_windows = (tf.data.Dataset.range(100).window(\n",
        "    size=2,\n",
        "    shift=1,\n",
        "    drop_remainder=True)\n",
        "  .flat_map(lambda ds : ds.batch(2))\n",
        "  .window(\n",
        "      size=5,\n",
        "      shift=1,\n",
        "      drop_remainder=True)\n",
        "  .flat_map(lambda ds: ds.batch(5))\n",
        "  .map(lambda S : (S[:,0], S[:,-1]))\n",
        ")"
      ]
    },
    {
      "cell_type": "code",
      "execution_count": null,
      "metadata": {
        "colab": {
          "base_uri": "https://localhost:8080/"
        },
        "id": "SiSys5WeGdHm",
        "outputId": "153174c5-554c-41a3-a165-b22a8e6b83eb"
      },
      "outputs": [],
      "source": [
        "for item, label in ds7_windows:\n",
        "    print(f\"{item} maps to {label} and has shape {item.shape}\")\n",
        "    print(\"*\"*50)"
      ]
    },
    {
      "cell_type": "code",
      "execution_count": null,
      "metadata": {
        "id": "6dRlnbp3Gs7Q"
      },
      "outputs": [],
      "source": [
        "# Sequence to sequence model\n",
        "# Input sequences of length 5\n",
        "# Targets: sequences of length 5, where each sequence element consist of the next 3\n",
        "#          data points\n",
        "#          Thus when the input sequence is [0,1,2,3,4], the target\n",
        "#          sequence is [[1,2,3],[2,3,4],[3,4,5],[4,5,6],[5,6,7]]\n",
        "# No batching\n",
        "ds8_windows = (tf.data.Dataset.range(100).window(\n",
        "    size=1 + 3,\n",
        "    shift=1,\n",
        "    drop_remainder=True)\n",
        "  .flat_map(lambda ds : ds.batch(1 + 3))\n",
        "  .window(\n",
        "      size=5,\n",
        "      shift=1,\n",
        "      drop_remainder=True)\n",
        "  .flat_map(lambda ds: ds.batch(5))\n",
        "  .map(lambda S : (S[:,0], S[:,1:]))\n",
        ")"
      ]
    },
    {
      "cell_type": "code",
      "execution_count": null,
      "metadata": {
        "colab": {
          "base_uri": "https://localhost:8080/"
        },
        "id": "AT0vQ4dmHKNR",
        "outputId": "be53c182-0853-4337-f45a-4f2442e599b3"
      },
      "outputs": [],
      "source": [
        "for item, label in ds8_windows:\n",
        "    print(f\"{item} maps to {label} and has shape {item.shape}\")\n",
        "    print(\"*\"*50)"
      ]
    }
  ],
  "metadata": {
    "colab": {
      "provenance": []
    },
    "kernelspec": {
      "display_name": "Python 3",
      "name": "python3"
    },
    "language_info": {
      "name": "python"
    }
  },
  "nbformat": 4,
  "nbformat_minor": 0
}
