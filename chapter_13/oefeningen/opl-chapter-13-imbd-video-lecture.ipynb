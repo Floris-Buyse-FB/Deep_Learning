{
 "cells": [
  {
   "cell_type": "code",
   "execution_count": 1,
   "id": "8e503fa0-60a9-47b5-91f4-ae1db14a9247",
   "metadata": {
    "tags": []
   },
   "outputs": [],
   "source": [
    "# Suppress tensorflow warnings\n",
    "import os\n",
    "os.environ['TF_CPP_MIN_LOG_LEVEL'] = '3'"
   ]
  },
  {
   "cell_type": "code",
   "execution_count": 2,
   "id": "55ec6615-0773-4b33-a23a-95522905c626",
   "metadata": {
    "tags": []
   },
   "outputs": [],
   "source": [
    "import tensorflow as tf\n",
    "import random\n",
    "import shutil"
   ]
  },
  {
   "cell_type": "code",
   "execution_count": 3,
   "id": "4246e260-fd2b-458a-aff4-9ac27b385afa",
   "metadata": {
    "tags": []
   },
   "outputs": [
    {
     "name": "stdout",
     "output_type": "stream",
     "text": [
      "Downloading data from https://ai.stanford.edu/~amaas/data/sentiment/aclImdb_v1.tar.gz\n",
      "84125825/84125825 [==============================] - 11s 0us/step\n",
      "./datasets/aclImdb_v1.tar.gz\n"
     ]
    }
   ],
   "source": [
    "URL = \"https://ai.stanford.edu/~amaas/data/sentiment/aclImdb_v1.tar.gz\"\n",
    "file_path = tf.keras.utils.get_file(\n",
    "    origin=URL,\n",
    "    extract=True,\n",
    "    cache_dir=\".\"\n",
    ")\n",
    "print(file_path)"
   ]
  },
  {
   "cell_type": "code",
   "execution_count": 4,
   "id": "6eb363d1-bc05-4cf6-bae2-8aed9f1af300",
   "metadata": {
    "tags": []
   },
   "outputs": [
    {
     "name": "stdout",
     "output_type": "stream",
     "text": [
      "imdbEr.txt  imdb.vocab\tREADME\ttest  train\n"
     ]
    }
   ],
   "source": [
    "!ls ./datasets/aclImdb/"
   ]
  },
  {
   "cell_type": "code",
   "execution_count": 5,
   "id": "726285f8-93a9-4675-af17-de457d93d65c",
   "metadata": {
    "tags": []
   },
   "outputs": [],
   "source": [
    "os.makedirs(\"./datasets/aclImdb/val/pos\",  exist_ok=True)\n",
    "os.makedirs(\"./datasets/aclImdb/val/neg\",  exist_ok=True)"
   ]
  },
  {
   "cell_type": "code",
   "execution_count": 6,
   "id": "5128bb45-d243-43e8-b5b5-0ed4b841b51f",
   "metadata": {
    "tags": []
   },
   "outputs": [],
   "source": [
    "neg_reviews = os.listdir(\"./datasets/aclImdb/test/neg\")\n",
    "pos_reviews = os.listdir(\"./datasets/aclImdb/test/pos\")\n",
    "random.shuffle(neg_reviews)\n",
    "random.shuffle(pos_reviews)\n",
    "\n",
    "assert len(neg_reviews) == 12500 and len(pos_reviews) == 12500\n",
    "for file_name in neg_reviews[:7500]:\n",
    "    shutil.move(\n",
    "        os.path.join(\"./datasets/aclImdb/test/neg\", file_name),\n",
    "        \"./datasets/aclImdb/val/neg\"\n",
    "    )\n",
    "    \n",
    "for file_name in pos_reviews[:7500]:\n",
    "    shutil.move(\n",
    "        os.path.join(\"./datasets/aclImdb/test/pos\", file_name),\n",
    "        \"./datasets/aclImdb/val/pos\"\n",
    "    )"
   ]
  },
  {
   "cell_type": "code",
   "execution_count": 7,
   "id": "ed7e578d-114a-4817-a4ac-fca195036e01",
   "metadata": {
    "tags": []
   },
   "outputs": [
    {
     "name": "stdout",
     "output_type": "stream",
     "text": [
      "labeledBow.feat  pos\tunsupBow.feat  urls_pos.txt\n",
      "neg\t\t unsup\turls_neg.txt   urls_unsup.txt\n"
     ]
    }
   ],
   "source": [
    "!ls ./datasets/aclImdb/train"
   ]
  },
  {
   "cell_type": "code",
   "execution_count": 8,
   "id": "a8934a27-2dbb-419e-93ea-a3efc7ab86a5",
   "metadata": {
    "tags": []
   },
   "outputs": [],
   "source": [
    "def create_dataset_1(base_dir):\n",
    "    # Approach 1: read all reviews into a list and use from_tensor_slices.\n",
    "    # base_dir: directory name like \"./datasets/aclImdb/train\"\n",
    "    reviews = []\n",
    "    sentiments = []\n",
    "    for sentiment in [\"pos\", \"neg\"]:\n",
    "        directory = os.path.join(base_dir, sentiment)\n",
    "        for file_path in os.listdir(directory):\n",
    "            with open(os.path.join(directory, file_path)  ,\"r\") as file:\n",
    "                reviews.append(file.readlines())\n",
    "            sentiments.append(1.0 if sentiment == \"pos\" else 0.0)\n",
    "            \n",
    "    return tf.data.Dataset.from_tensor_slices( (reviews, sentiments))"
   ]
  },
  {
   "cell_type": "code",
   "execution_count": 9,
   "id": "da6eb7d7-c7b3-413d-a9b4-47f7d272063f",
   "metadata": {
    "tags": []
   },
   "outputs": [],
   "source": [
    "def create_dataset_2(base_dir):\n",
    "    pos_file_paths = [os.path.join(base_dir, \"pos\", f)\n",
    "        for f in os.listdir(os.path.join(base_dir, \"pos\"))]\n",
    "    neg_file_paths = [os.path.join(base_dir, \"neg\", f)\n",
    "        for f in os.listdir(os.path.join(base_dir, \"neg\"))]\n",
    "    \n",
    "    pos_ds = tf.data.TextLineDataset(\n",
    "        pos_file_paths, num_parallel_reads=4).map(\n",
    "        lambda review : (review, 1.0)\n",
    "    )\n",
    "    \n",
    "    neg_ds = tf.data.TextLineDataset(\n",
    "        neg_file_paths, num_parallel_reads=4).map(\n",
    "        lambda review : (review, 0.0)    \n",
    "    )\n",
    "    \n",
    "    return pos_ds.concatenate(neg_ds)"
   ]
  },
  {
   "cell_type": "code",
   "execution_count": 10,
   "id": "809e107d-5574-43c6-abd7-5174ba8bc487",
   "metadata": {
    "tags": []
   },
   "outputs": [
    {
     "name": "stdout",
     "output_type": "stream",
     "text": [
      "tf.Tensor(b'The story centers around Barry McKenzie who must go to England if he wishes to claim his inheritance. Being about the grossest Aussie shearer ever to set foot outside this great Nation of ours there is something of a culture clash and much fun and games ensue. The songs of Barry McKenzie(Barry Crocker) are highlights.', shape=(), dtype=string)\n",
      "tf.Tensor(1.0, shape=(), dtype=float32)\n",
      "**************************************************\n",
      "tf.Tensor(b'I rented I AM CURIOUS-YELLOW from my video store because of all the controversy that surrounded it when it was first released in 1967. I also heard that at first it was seized by U.S. customs if it ever tried to enter this country, therefore being a fan of films considered \"controversial\" I really had to see this for myself.<br /><br />The plot is centered around a young Swedish drama student named Lena who wants to learn everything she can about life. In particular she wants to focus her attentions to making some sort of documentary on what the average Swede thought about certain political issues such as the Vietnam War and race issues in the United States. In between asking politicians and ordinary denizens of Stockholm about their opinions on politics, she has sex with her drama teacher, classmates, and married men.<br /><br />What kills me about I AM CURIOUS-YELLOW is that 40 years ago, this was considered pornographic. Really, the sex and nudity scenes are few and far between, even then it\\'s not shot like some cheaply made porno. While my countrymen mind find it shocking, in reality sex and nudity are a major staple in Swedish cinema. Even Ingmar Bergman, arguably their answer to good old boy John Ford, had sex scenes in his films.<br /><br />I do commend the filmmakers for the fact that any sex shown in the film is shown for artistic purposes rather than just to shock people and make money to be shown in pornographic theaters in America. I AM CURIOUS-YELLOW is a good film for anyone wanting to study the meat and potatoes (no pun intended) of Swedish cinema. But really, this film doesn\\'t have much of a plot.', shape=(), dtype=string)\n",
      "tf.Tensor(0.0, shape=(), dtype=float32)\n",
      "**************************************************\n"
     ]
    }
   ],
   "source": [
    "ds = create_dataset_2(\"./datasets/aclImdb/train\")\n",
    "for review, sentiment in ds.skip(12499).take(2):\n",
    "    print(review)\n",
    "    print(sentiment)\n",
    "    print(\"*\"*50)"
   ]
  },
  {
   "cell_type": "code",
   "execution_count": 11,
   "id": "9d3e846b-9504-4437-95dd-10cc9ef76f39",
   "metadata": {
    "tags": []
   },
   "outputs": [],
   "source": [
    "BATCH_SIZE=512\n",
    "train_ds = (create_dataset_2(\"./datasets/aclImdb/train\").\n",
    "            shuffle(buffer_size=15_000, seed=42).\n",
    "            batch(BATCH_SIZE).\n",
    "            prefetch(1)\n",
    ")\n",
    "val_ds = (create_dataset_2(\"./datasets/aclImdb/val\").\n",
    "            batch(BATCH_SIZE).\n",
    "            prefetch(1)\n",
    ")\n",
    "test_ds = (create_dataset_2(\"./datasets/aclImdb/test\").\n",
    "            batch(BATCH_SIZE).\n",
    "            prefetch(1)\n",
    ")"
   ]
  },
  {
   "cell_type": "code",
   "execution_count": 12,
   "id": "333fed64-cefe-4f77-8006-40a08813f340",
   "metadata": {
    "tags": []
   },
   "outputs": [],
   "source": [
    "VOCAB_SIZE=10_000\n",
    "multi_hot_layer = tf.keras.layers.TextVectorization(\n",
    "    max_tokens=VOCAB_SIZE,\n",
    "    output_mode=\"multi_hot\"\n",
    ")"
   ]
  },
  {
   "cell_type": "code",
   "execution_count": 13,
   "id": "a6678be5-233b-4d50-acca-3d6424abf162",
   "metadata": {
    "tags": []
   },
   "outputs": [],
   "source": [
    "multi_hot_layer.adapt(train_ds.map(lambda review, sentiment : review))"
   ]
  },
  {
   "cell_type": "code",
   "execution_count": 14,
   "id": "93350a39-cfda-4327-8fbc-9e9a1db5c1c1",
   "metadata": {
    "tags": []
   },
   "outputs": [
    {
     "name": "stdout",
     "output_type": "stream",
     "text": [
      "['[UNK]', 'the', 'and', 'a', 'of', 'to', 'is', 'in', 'it', 'i', 'this', 'that', 'br', 'was', 'as', 'for', 'with', 'movie', 'but', 'film']\n"
     ]
    }
   ],
   "source": [
    "print(multi_hot_layer.get_vocabulary()[:20])"
   ]
  },
  {
   "cell_type": "code",
   "execution_count": 15,
   "id": "f4749fe1-c5dc-433d-b233-8b502723dadf",
   "metadata": {
    "tags": []
   },
   "outputs": [
    {
     "data": {
      "text/plain": [
       "<tf.Tensor: shape=(2, 10000), dtype=float32, numpy=\n",
       "array([[0., 1., 1., ..., 0., 0., 0.],\n",
       "       [1., 0., 0., ..., 0., 0., 0.]], dtype=float32)>"
      ]
     },
     "execution_count": 15,
     "metadata": {},
     "output_type": "execute_result"
    }
   ],
   "source": [
    "multi_hot_layer([\"The movie was great and a the the the\", \"Terrible sjqfljqfsdj\"])"
   ]
  },
  {
   "cell_type": "code",
   "execution_count": 16,
   "id": "22d909f7-e465-4b94-b796-98a6b6e2f2e3",
   "metadata": {
    "tags": []
   },
   "outputs": [],
   "source": [
    "def get_model(conversion_layer):\n",
    "    model = tf.keras.Sequential()\n",
    "    \n",
    "    model.add(conversion_layer)\n",
    "    vocab_size = len(conversion_layer.get_vocabulary())\n",
    "    \n",
    "    model.add(tf.keras.layers.Dense(\n",
    "        units=16,\n",
    "        activation=\"relu\", \n",
    "        kernel_initializer=\"he_uniform\",\n",
    "        input_shape=(vocab_size, )\n",
    "    ))\n",
    "    \n",
    "    model.add(tf.keras.layers.Dense(\n",
    "        units=16,\n",
    "        activation=\"relu\", \n",
    "        kernel_initializer=\"he_uniform\",       \n",
    "    ))\n",
    "    \n",
    "    model.add(tf.keras.layers.Dense(\n",
    "        units=1,\n",
    "        activation=\"sigmoid\",               \n",
    "    ))\n",
    "    \n",
    "    return model"
   ]
  },
  {
   "cell_type": "code",
   "execution_count": 17,
   "id": "625ffbd6-2dfe-45a5-a20a-61ce31168c21",
   "metadata": {
    "tags": []
   },
   "outputs": [],
   "source": [
    "model = get_model(multi_hot_layer)"
   ]
  },
  {
   "cell_type": "code",
   "execution_count": 18,
   "id": "8f532318-b884-4f00-b7d7-7cefa645d0a3",
   "metadata": {
    "tags": []
   },
   "outputs": [
    {
     "name": "stdout",
     "output_type": "stream",
     "text": [
      "(512,)\n",
      "(512, 1)\n"
     ]
    }
   ],
   "source": [
    "for x, y in train_ds.take(1):\n",
    "    print(x.shape)\n",
    "    print(model(x).shape)"
   ]
  },
  {
   "cell_type": "code",
   "execution_count": 19,
   "id": "edcef182-e39d-40d4-adc6-f300d2418245",
   "metadata": {
    "tags": []
   },
   "outputs": [
    {
     "name": "stdout",
     "output_type": "stream",
     "text": [
      "Model: \"sequential\"\n",
      "_________________________________________________________________\n",
      " Layer (type)                Output Shape              Param #   \n",
      "=================================================================\n",
      " text_vectorization (TextVec  (None, 10000)            0         \n",
      " torization)                                                     \n",
      "                                                                 \n",
      " dense (Dense)               (None, 16)                160016    \n",
      "                                                                 \n",
      " dense_1 (Dense)             (None, 16)                272       \n",
      "                                                                 \n",
      " dense_2 (Dense)             (None, 1)                 17        \n",
      "                                                                 \n",
      "=================================================================\n",
      "Total params: 160,305\n",
      "Trainable params: 160,305\n",
      "Non-trainable params: 0\n",
      "_________________________________________________________________\n"
     ]
    }
   ],
   "source": [
    "model.summary()"
   ]
  },
  {
   "cell_type": "code",
   "execution_count": 20,
   "id": "4feffbb9-461f-4075-83df-f172b548d21e",
   "metadata": {
    "tags": []
   },
   "outputs": [],
   "source": [
    "early_stopping = tf.keras.callbacks.EarlyStopping(\n",
    "    monitor=\"val_accuracy\",\n",
    "    min_delta=0.001,\n",
    "    patience=3,\n",
    "    restore_best_weights=True\n",
    ")"
   ]
  },
  {
   "cell_type": "code",
   "execution_count": 21,
   "id": "5fb90089-5127-4d6c-9434-6491c6b9f672",
   "metadata": {
    "tags": []
   },
   "outputs": [],
   "source": [
    "model.compile(\n",
    "    optimizer='rmsprop',\n",
    "    loss='binary_crossentropy',\n",
    "    metrics=['accuracy']\n",
    ")"
   ]
  },
  {
   "cell_type": "code",
   "execution_count": 22,
   "id": "72476678-6139-4bb4-9fd7-bc070efe6afa",
   "metadata": {
    "tags": []
   },
   "outputs": [
    {
     "name": "stdout",
     "output_type": "stream",
     "text": [
      "Epoch 1/100\n",
      "49/49 [==============================] - 7s 58ms/step - loss: 0.5639 - accuracy: 0.7003 - val_loss: 0.4640 - val_accuracy: 0.8591\n",
      "Epoch 2/100\n",
      "49/49 [==============================] - 3s 52ms/step - loss: 0.3382 - accuracy: 0.8915 - val_loss: 0.3173 - val_accuracy: 0.8829\n",
      "Epoch 3/100\n",
      "49/49 [==============================] - 3s 51ms/step - loss: 0.2335 - accuracy: 0.9162 - val_loss: 0.3033 - val_accuracy: 0.8778\n",
      "Epoch 4/100\n",
      "49/49 [==============================] - 3s 51ms/step - loss: 0.1888 - accuracy: 0.9335 - val_loss: 0.3172 - val_accuracy: 0.8707\n",
      "Epoch 5/100\n",
      "49/49 [==============================] - 3s 52ms/step - loss: 0.1619 - accuracy: 0.9409 - val_loss: 0.3066 - val_accuracy: 0.8809\n"
     ]
    }
   ],
   "source": [
    "history = model.fit(\n",
    "    train_ds, \n",
    "    validation_data=val_ds, \n",
    "    epochs=100,\n",
    "    callbacks=[early_stopping]\n",
    ")"
   ]
  },
  {
   "cell_type": "code",
   "execution_count": 23,
   "id": "8b736378-9af3-4d3d-8843-7c076326ea5c",
   "metadata": {
    "tags": []
   },
   "outputs": [
    {
     "name": "stdout",
     "output_type": "stream",
     "text": [
      "49/49 [==============================] - 2s 33ms/step - loss: 0.2502 - accuracy: 0.9227\n"
     ]
    },
    {
     "data": {
      "text/plain": [
       "[0.2502068877220154, 0.9226800203323364]"
      ]
     },
     "execution_count": 23,
     "metadata": {},
     "output_type": "execute_result"
    }
   ],
   "source": [
    "model.evaluate(train_ds)"
   ]
  },
  {
   "cell_type": "code",
   "execution_count": 24,
   "id": "f83e189e-a418-4059-86e1-87463288c45b",
   "metadata": {
    "tags": []
   },
   "outputs": [],
   "source": [
    "VOCAB_SIZE=10_000\n",
    "tf_idf_layer = tf.keras.layers.TextVectorization(\n",
    "    max_tokens=VOCAB_SIZE,\n",
    "    output_mode=\"tf_idf\"\n",
    ")\n",
    "tf_idf_layer.adapt(train_ds.map(lambda review, sentiment : review))"
   ]
  },
  {
   "cell_type": "code",
   "execution_count": 25,
   "id": "680b50ee-15d9-4599-a90e-0fe1469b8578",
   "metadata": {
    "tags": []
   },
   "outputs": [],
   "source": [
    "model2 = get_model(tf_idf_layer)"
   ]
  },
  {
   "cell_type": "code",
   "execution_count": 26,
   "id": "3fdba918-91ce-4bf0-83a8-10030a784c22",
   "metadata": {
    "tags": []
   },
   "outputs": [
    {
     "name": "stdout",
     "output_type": "stream",
     "text": [
      "Epoch 1/100\n",
      "49/49 [==============================] - 5s 57ms/step - loss: 0.4478 - accuracy: 0.8008 - val_loss: 0.5270 - val_accuracy: 0.7769\n",
      "Epoch 2/100\n",
      "49/49 [==============================] - 3s 52ms/step - loss: 0.2352 - accuracy: 0.9130 - val_loss: 0.3236 - val_accuracy: 0.8735\n",
      "Epoch 3/100\n",
      "49/49 [==============================] - 3s 52ms/step - loss: 0.1637 - accuracy: 0.9413 - val_loss: 0.3305 - val_accuracy: 0.8725\n",
      "Epoch 4/100\n",
      "49/49 [==============================] - 3s 51ms/step - loss: 0.1197 - accuracy: 0.9570 - val_loss: 0.4567 - val_accuracy: 0.8483\n",
      "Epoch 5/100\n",
      "49/49 [==============================] - 3s 52ms/step - loss: 0.0951 - accuracy: 0.9670 - val_loss: 0.4340 - val_accuracy: 0.8602\n"
     ]
    }
   ],
   "source": [
    "model2.compile(\n",
    "    optimizer='rmsprop',\n",
    "    loss='binary_crossentropy',\n",
    "    metrics=['accuracy']\n",
    ")\n",
    "\n",
    "history = model2.fit(\n",
    "    train_ds, \n",
    "    validation_data=val_ds, \n",
    "    epochs=100,\n",
    "    callbacks=[early_stopping]\n",
    ")"
   ]
  },
  {
   "cell_type": "code",
   "execution_count": 27,
   "id": "ef4f065e-91b4-4862-82ca-ddc6d47d8dd2",
   "metadata": {
    "tags": []
   },
   "outputs": [
    {
     "data": {
      "text/plain": [
       "<tf.Tensor: shape=(2, 10000), dtype=float32, numpy=\n",
       "array([[0.       , 2.7894142, 0.7110562, ..., 0.       , 0.       ,\n",
       "        0.       ],\n",
       "       [5.562553 , 0.       , 0.       , ..., 0.       , 0.       ,\n",
       "        0.       ]], dtype=float32)>"
      ]
     },
     "execution_count": 27,
     "metadata": {},
     "output_type": "execute_result"
    }
   ],
   "source": [
    "tf_idf_layer([\"The movie was great and a the the the\", \"Terrible sjqfljqfsdj\"])"
   ]
  },
  {
   "cell_type": "code",
   "execution_count": 28,
   "id": "fa0fc4e4-3c61-4a23-9bc0-c3c1ecd474a7",
   "metadata": {
    "tags": []
   },
   "outputs": [
    {
     "name": "stdout",
     "output_type": "stream",
     "text": [
      "49/49 [==============================] - 2s 33ms/step - loss: 0.1636 - accuracy: 0.9487\n"
     ]
    },
    {
     "data": {
      "text/plain": [
       "[0.1636025756597519, 0.9486799836158752]"
      ]
     },
     "execution_count": 28,
     "metadata": {},
     "output_type": "execute_result"
    }
   ],
   "source": [
    "model2.evaluate(train_ds)"
   ]
  },
  {
   "cell_type": "code",
   "execution_count": 29,
   "id": "ed096d1d-e8f6-4c06-9b75-b1f29c2470bf",
   "metadata": {
    "tags": []
   },
   "outputs": [],
   "source": [
    "VOCAB_SIZE=10_000\n",
    "int_layer = tf.keras.layers.TextVectorization(\n",
    "    max_tokens=VOCAB_SIZE,\n",
    "    output_mode=\"int\"\n",
    ")\n",
    "int_layer.adapt(train_ds.map(lambda review, sentiment : review))"
   ]
  },
  {
   "cell_type": "code",
   "execution_count": 30,
   "id": "da83ab30-7fda-4981-92b5-4b74bc78f5ea",
   "metadata": {
    "tags": []
   },
   "outputs": [
    {
     "data": {
      "text/plain": [
       "<tf.Tensor: shape=(2, 5), dtype=int64, numpy=\n",
       "array([[   9,   14,    4,  384,   18],\n",
       "       [1566,    0,    0,    0,    0]])>"
      ]
     },
     "execution_count": 30,
     "metadata": {},
     "output_type": "execute_result"
    }
   ],
   "source": [
    "int_layer([\"It was a terrible movie\", \"Super!\"])"
   ]
  },
  {
   "cell_type": "code",
   "execution_count": 32,
   "id": "cf2d1cd2-f13a-450f-98dc-86fca4993d8a",
   "metadata": {
    "tags": []
   },
   "outputs": [
    {
     "data": {
      "text/plain": [
       "['', '[UNK]', 'the', 'and', 'a', 'of', 'to', 'is', 'in', 'it']"
      ]
     },
     "execution_count": 32,
     "metadata": {},
     "output_type": "execute_result"
    }
   ],
   "source": [
    "int_layer.get_vocabulary()[:10]"
   ]
  },
  {
   "cell_type": "code",
   "execution_count": 31,
   "id": "51230aff-2f60-4c6d-ae9e-04dc9fb36b2d",
   "metadata": {
    "tags": []
   },
   "outputs": [
    {
     "data": {
      "text/plain": [
       "<tf.Tensor: shape=(2, 5, 3), dtype=float32, numpy=\n",
       "array([[[ 0.006118  ,  0.01008576, -0.02373931],\n",
       "        [ 0.03846511, -0.02238265,  0.0028962 ],\n",
       "        [ 0.04528674,  0.03774228, -0.02687869],\n",
       "        [-0.01549911,  0.03653402, -0.03963671],\n",
       "        [ 0.02001765, -0.04948144, -0.02445948]],\n",
       "\n",
       "       [[-0.0430169 , -0.00814094, -0.01168038],\n",
       "        [ 0.01671696,  0.04243027, -0.04490953],\n",
       "        [ 0.01671696,  0.04243027, -0.04490953],\n",
       "        [ 0.01671696,  0.04243027, -0.04490953],\n",
       "        [ 0.01671696,  0.04243027, -0.04490953]]], dtype=float32)>"
      ]
     },
     "execution_count": 31,
     "metadata": {},
     "output_type": "execute_result"
    }
   ],
   "source": [
    "embed_layer= tf.keras.layers.Embedding(\n",
    "    input_dim=len(int_layer.get_vocabulary()),\n",
    "    output_dim=3)\n",
    "embed_layer(int_layer([\"It was a terrible movie\", \"Super!\"]))"
   ]
  },
  {
   "cell_type": "code",
   "execution_count": 43,
   "id": "82f45edf-72e3-4556-8670-cd22b0103314",
   "metadata": {
    "tags": []
   },
   "outputs": [
    {
     "data": {
      "text/plain": [
       "<tf.Tensor: shape=(2, 1), dtype=float32, numpy=\n",
       "array([[2.2360678],\n",
       "       [1.       ]], dtype=float32)>"
      ]
     },
     "execution_count": 43,
     "metadata": {},
     "output_type": "execute_result"
    }
   ],
   "source": [
    "# Scaling\n",
    "tf.math.sqrt(tf.math.count_nonzero(\n",
    "    int_layer([\"It was a terrible movie\", \"Super!\"]),\n",
    "    axis=-1,\n",
    "    keepdims=True,\n",
    "    dtype=tf.float32)\n",
    ")"
   ]
  },
  {
   "cell_type": "code",
   "execution_count": 51,
   "id": "50539450-bc7b-4e1b-a4d6-aa7b1aaacac5",
   "metadata": {
    "tags": []
   },
   "outputs": [
    {
     "data": {
      "text/plain": [
       "<tf.Tensor: shape=(2, 5, 3), dtype=float32, numpy=\n",
       "array([[[ 0.006118  ,  0.01008576, -0.02373931],\n",
       "        [ 0.03846511, -0.02238265,  0.0028962 ],\n",
       "        [ 0.04528674,  0.03774228, -0.02687869],\n",
       "        [-0.01549911,  0.03653402, -0.03963671],\n",
       "        [ 0.02001765, -0.04948144, -0.02445948]],\n",
       "\n",
       "       [[-0.0430169 , -0.00814094, -0.01168038],\n",
       "        [ 0.        ,  0.        , -0.        ],\n",
       "        [ 0.        ,  0.        , -0.        ],\n",
       "        [ 0.        ,  0.        , -0.        ],\n",
       "        [ 0.        ,  0.        , -0.        ]]], dtype=float32)>"
      ]
     },
     "execution_count": 51,
     "metadata": {},
     "output_type": "execute_result"
    }
   ],
   "source": [
    "# vermenigvuldig met multiplier\n",
    "tf.expand_dims(\n",
    "    tf.where(int_layer([\"It was a terrible movie\", \"Super!\"]) != 0, 1.0 ,0.0),\n",
    "    -1)  * embed_layer(int_layer([\"It was a terrible movie\", \"Super!\"]))"
   ]
  },
  {
   "cell_type": "code",
   "execution_count": 55,
   "id": "b486c32b-2087-4a0d-b215-7f443ff439e6",
   "metadata": {
    "tags": []
   },
   "outputs": [
    {
     "data": {
      "text/plain": [
       "0.09438839"
      ]
     },
     "execution_count": 55,
     "metadata": {},
     "output_type": "execute_result"
    }
   ],
   "source": [
    "0.006118 + 0.03846511 + 0.04528674 + (-0.01549911) +  0.02001765"
   ]
  },
  {
   "cell_type": "code",
   "execution_count": 54,
   "id": "729f8685-9fbd-4763-8fce-9e1c2d923481",
   "metadata": {
    "tags": []
   },
   "outputs": [
    {
     "data": {
      "text/plain": [
       "<tf.Tensor: shape=(2, 3), dtype=float32, numpy=\n",
       "array([[ 0.09438838,  0.01249797, -0.11181799],\n",
       "       [-0.0430169 , -0.00814094, -0.01168038]], dtype=float32)>"
      ]
     },
     "execution_count": 54,
     "metadata": {},
     "output_type": "execute_result"
    }
   ],
   "source": [
    "tf.reduce_sum(tf.expand_dims(\n",
    "    tf.where(int_layer([\"It was a terrible movie\", \"Super!\"]) != 0, 1.0 ,0.0),\n",
    "    -1)  * embed_layer(int_layer([\"It was a terrible movie\", \"Super!\"])),\n",
    "              axis=1\n",
    ")"
   ]
  },
  {
   "cell_type": "code",
   "execution_count": 61,
   "id": "bbf0ac27-9d52-4498-b58b-22dbc2ec673f",
   "metadata": {
    "tags": []
   },
   "outputs": [],
   "source": [
    "class MeanEmbeddingLayer(tf.keras.layers.Layer):\n",
    "    \n",
    "    def __init__(self, input_dim, output_dim, **kwargs):\n",
    "        super().__init__(**kwargs)\n",
    "        self.input_dim = input_dim\n",
    "        self.output_dim = output_dim\n",
    "        self.embedding_layer = tf.keras.layers.Embedding(\n",
    "            input_dim=self.input_dim,\n",
    "            output_dim=self.output_dim)\n",
    "        \n",
    "    def call(self, ints):\n",
    "        ## ints should be (batch_size, max_sequence_length)\n",
    "        \n",
    "        # (batch, max_sequence_length, 1)\n",
    "        multiplier = tf.expand_dims(tf.where(ints != 0, 1.0 ,0.0), -1) \n",
    "        \n",
    "        # (batch, 1)\n",
    "        scaling_factor = tf.math.sqrt(tf.math.count_nonzero(\n",
    "            ints,\n",
    "            axis=-1,\n",
    "            keepdims=True,\n",
    "            dtype=tf.float32)\n",
    "        )\n",
    "        \n",
    "        # (batch, max_seq_length, self.output_dim)\n",
    "        embeddings = self.embedding_layer(ints)\n",
    "        \n",
    "        # (batch, self.output_dim)\n",
    "        unscaled_sum = tf.reduce_sum(multiplier * embeddings, axis=1)\n",
    "        \n",
    "        return unscaled_sum / scaling_factor\n",
    "        \n",
    "    def get_config(self):\n",
    "        base_config = super().get_config()\n",
    "        return {**base_config, \n",
    "                \"input_dim\": self.input_dim,\n",
    "                \"output_dim\": self.output_dim}"
   ]
  },
  {
   "cell_type": "code",
   "execution_count": 62,
   "id": "8097edcd-7164-456b-8075-b79a59615167",
   "metadata": {
    "tags": []
   },
   "outputs": [],
   "source": [
    "mean_embed_layer = MeanEmbeddingLayer(\n",
    "    input_dim=len(int_layer.get_vocabulary()),\n",
    "    output_dim=3\n",
    ")"
   ]
  },
  {
   "cell_type": "code",
   "execution_count": 63,
   "id": "59b14407-23a7-450a-aadf-2e67653daacc",
   "metadata": {
    "tags": []
   },
   "outputs": [
    {
     "data": {
      "text/plain": [
       "<tf.Tensor: shape=(2, 3), dtype=float32, numpy=\n",
       "array([[ 0.00643829, -0.00560611, -0.01583122],\n",
       "       [-0.00760835, -0.02578654, -0.02047758]], dtype=float32)>"
      ]
     },
     "execution_count": 63,
     "metadata": {},
     "output_type": "execute_result"
    }
   ],
   "source": [
    "mean_embed_layer(int_layer([\"It was a terrible movie\", \"Super!\"]))"
   ]
  },
  {
   "cell_type": "code",
   "execution_count": 69,
   "id": "7beb2343-fbce-4f81-a4e0-d7ac0a3546ed",
   "metadata": {
    "tags": []
   },
   "outputs": [],
   "source": [
    "def get_model_with_embedding(vectorization_layer, output_dim):\n",
    "    \n",
    "    model = tf.keras.Sequential()\n",
    "    \n",
    "    model.add(vectorization_layer)\n",
    "    \n",
    "    model.add(MeanEmbeddingLayer(\n",
    "        input_dim=len(vectorization_layer.get_vocabulary()),\n",
    "        output_dim=output_dim\n",
    "    ))\n",
    "    \n",
    "    model.add(tf.keras.layers.Dense(\n",
    "        units=16,\n",
    "        activation=\"relu\", \n",
    "        kernel_initializer=\"he_uniform\",        \n",
    "    ))\n",
    "    \n",
    "    model.add(tf.keras.layers.Dense(\n",
    "        units=16,\n",
    "        activation=\"relu\", \n",
    "        kernel_initializer=\"he_uniform\",       \n",
    "    ))\n",
    "    \n",
    "    model.add(tf.keras.layers.Dense(\n",
    "        units=1,\n",
    "        activation=\"sigmoid\",               \n",
    "    ))\n",
    "    \n",
    "    return model"
   ]
  },
  {
   "cell_type": "code",
   "execution_count": 73,
   "id": "1a0c9643-165c-4787-9d8e-7fce5410280e",
   "metadata": {
    "tags": []
   },
   "outputs": [],
   "source": [
    "model3 = get_model_with_embedding(int_layer, output_dim=16)"
   ]
  },
  {
   "cell_type": "code",
   "execution_count": 74,
   "id": "b4da0176-d3c4-44ef-a6a8-d65341fee050",
   "metadata": {
    "tags": []
   },
   "outputs": [
    {
     "name": "stdout",
     "output_type": "stream",
     "text": [
      "(512,)\n",
      "(512, 1)\n"
     ]
    }
   ],
   "source": [
    "for X, y in train_ds.take(1):\n",
    "    print(X.shape)\n",
    "    print(model3(X).shape)"
   ]
  },
  {
   "cell_type": "code",
   "execution_count": 75,
   "id": "7d6a678d-da15-418e-ae17-43c73b3b3ae2",
   "metadata": {
    "tags": []
   },
   "outputs": [
    {
     "name": "stdout",
     "output_type": "stream",
     "text": [
      "Model: \"sequential_4\"\n",
      "_________________________________________________________________\n",
      " Layer (type)                Output Shape              Param #   \n",
      "=================================================================\n",
      " text_vectorization_2 (TextV  (None, None)             0         \n",
      " ectorization)                                                   \n",
      "                                                                 \n",
      " mean_embedding_layer_4 (Mea  (None, 16)               160000    \n",
      " nEmbeddingLayer)                                                \n",
      "                                                                 \n",
      " dense_9 (Dense)             (None, 16)                272       \n",
      "                                                                 \n",
      " dense_10 (Dense)            (None, 16)                272       \n",
      "                                                                 \n",
      " dense_11 (Dense)            (None, 1)                 17        \n",
      "                                                                 \n",
      "=================================================================\n",
      "Total params: 160,561\n",
      "Trainable params: 160,561\n",
      "Non-trainable params: 0\n",
      "_________________________________________________________________\n"
     ]
    }
   ],
   "source": [
    "model3.summary()"
   ]
  },
  {
   "cell_type": "code",
   "execution_count": 76,
   "id": "c9d4721d-e08b-4d30-b7cb-1bd406a6facb",
   "metadata": {
    "tags": []
   },
   "outputs": [
    {
     "name": "stdout",
     "output_type": "stream",
     "text": [
      "Epoch 1/100\n",
      "49/49 [==============================] - 13s 230ms/step - loss: 0.6592 - accuracy: 0.6466 - val_loss: 0.6304 - val_accuracy: 0.6467\n",
      "Epoch 2/100\n",
      "49/49 [==============================] - 12s 239ms/step - loss: 0.5447 - accuracy: 0.7797 - val_loss: 0.4812 - val_accuracy: 0.8123\n",
      "Epoch 3/100\n",
      "49/49 [==============================] - 11s 201ms/step - loss: 0.4011 - accuracy: 0.8482 - val_loss: 0.3882 - val_accuracy: 0.8379\n",
      "Epoch 4/100\n",
      "49/49 [==============================] - 10s 186ms/step - loss: 0.3170 - accuracy: 0.8778 - val_loss: 0.3441 - val_accuracy: 0.8521\n",
      "Epoch 5/100\n",
      "49/49 [==============================] - 9s 164ms/step - loss: 0.2692 - accuracy: 0.8944 - val_loss: 0.3201 - val_accuracy: 0.8617\n",
      "Epoch 6/100\n",
      "49/49 [==============================] - 8s 143ms/step - loss: 0.2428 - accuracy: 0.9036 - val_loss: 0.2936 - val_accuracy: 0.8741\n",
      "Epoch 7/100\n",
      "49/49 [==============================] - 8s 160ms/step - loss: 0.2190 - accuracy: 0.9135 - val_loss: 0.2863 - val_accuracy: 0.8775\n",
      "Epoch 8/100\n",
      "49/49 [==============================] - 7s 139ms/step - loss: 0.2009 - accuracy: 0.9228 - val_loss: 0.2781 - val_accuracy: 0.8839\n",
      "Epoch 9/100\n",
      "49/49 [==============================] - 7s 123ms/step - loss: 0.1849 - accuracy: 0.9294 - val_loss: 0.2749 - val_accuracy: 0.8855\n",
      "Epoch 10/100\n",
      "49/49 [==============================] - 6s 111ms/step - loss: 0.1721 - accuracy: 0.9352 - val_loss: 0.2816 - val_accuracy: 0.8843\n",
      "Epoch 11/100\n",
      "49/49 [==============================] - 7s 135ms/step - loss: 0.1619 - accuracy: 0.9412 - val_loss: 0.2856 - val_accuracy: 0.8842\n",
      "Epoch 12/100\n",
      "49/49 [==============================] - 7s 123ms/step - loss: 0.1526 - accuracy: 0.9444 - val_loss: 0.2939 - val_accuracy: 0.8836\n"
     ]
    }
   ],
   "source": [
    "model3.compile(\n",
    "    optimizer='rmsprop',\n",
    "    loss='binary_crossentropy',\n",
    "    metrics=['accuracy']\n",
    ")\n",
    "\n",
    "history = model3.fit(\n",
    "    train_ds, \n",
    "    validation_data=val_ds, \n",
    "    epochs=100,\n",
    "    callbacks=[early_stopping]\n",
    ")"
   ]
  },
  {
   "cell_type": "code",
   "execution_count": 77,
   "id": "95b17237-2969-44cb-a743-d09be1dcee8a",
   "metadata": {
    "tags": []
   },
   "outputs": [
    {
     "name": "stdout",
     "output_type": "stream",
     "text": [
      "30/30 [==============================] - 1s 29ms/step - loss: 0.2749 - accuracy: 0.8855\n"
     ]
    },
    {
     "data": {
      "text/plain": [
       "[0.27490878105163574, 0.885533332824707]"
      ]
     },
     "execution_count": 77,
     "metadata": {},
     "output_type": "execute_result"
    }
   ],
   "source": [
    "model3.evaluate(val_ds)"
   ]
  },
  {
   "cell_type": "code",
   "execution_count": 78,
   "id": "3bd87903-05fb-413b-a818-4431fc07e5dd",
   "metadata": {
    "tags": []
   },
   "outputs": [
    {
     "name": "stdout",
     "output_type": "stream",
     "text": [
      "20/20 [==============================] - 1s 31ms/step - loss: 0.2677 - accuracy: 0.8881\n"
     ]
    },
    {
     "data": {
      "text/plain": [
       "[0.2677277624607086, 0.8881000280380249]"
      ]
     },
     "execution_count": 78,
     "metadata": {},
     "output_type": "execute_result"
    }
   ],
   "source": [
    "model3.evaluate(test_ds)"
   ]
  },
  {
   "cell_type": "code",
   "execution_count": null,
   "id": "20ae3f0f-8fdd-4128-9170-6ac0e2228af3",
   "metadata": {},
   "outputs": [],
   "source": []
  }
 ],
 "metadata": {
  "kernelspec": {
   "display_name": "Python 3 (ipykernel)",
   "language": "python",
   "name": "python3"
  },
  "language_info": {
   "codemirror_mode": {
    "name": "ipython",
    "version": 3
   },
   "file_extension": ".py",
   "mimetype": "text/x-python",
   "name": "python",
   "nbconvert_exporter": "python",
   "pygments_lexer": "ipython3",
   "version": "3.9.16"
  }
 },
 "nbformat": 4,
 "nbformat_minor": 5
}
