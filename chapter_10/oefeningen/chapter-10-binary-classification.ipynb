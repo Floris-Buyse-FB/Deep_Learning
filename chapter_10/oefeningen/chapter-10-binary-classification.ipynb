{
 "cells": [
  {
   "cell_type": "code",
   "execution_count": null,
   "id": "d10e2682-8259-4883-926c-587463528e33",
   "metadata": {
    "tags": []
   },
   "outputs": [],
   "source": [
    "import numpy as np\n",
    "import tensorflow as tf\n",
    "import matplotlib.pyplot as plt"
   ]
  },
  {
   "cell_type": "markdown",
   "id": "82c22b42-8f3c-4bb5-b5a0-4ef7f3d49359",
   "metadata": {},
   "source": [
    "## Part 1: Download the Data"
   ]
  },
  {
   "cell_type": "code",
   "execution_count": null,
   "id": "ac54c022-4188-48ec-b367-6a69ce1ff0fc",
   "metadata": {
    "tags": []
   },
   "outputs": [],
   "source": [
    "(train_data, train_labels), (test_data, test_labels) = tf.keras.datasets.imdb.load_data(num_words=10_000)"
   ]
  },
  {
   "cell_type": "code",
   "execution_count": null,
   "id": "f66fb34a-eedf-4206-b07b-557fef0f983a",
   "metadata": {
    "tags": []
   },
   "outputs": [],
   "source": [
    "train_data.shape, train_labels.shape, test_data.shape, test_labels.shape"
   ]
  },
  {
   "cell_type": "code",
   "execution_count": null,
   "id": "9131628f-72ae-47f3-a1eb-5ff0fb93d4f6",
   "metadata": {
    "tags": []
   },
   "outputs": [],
   "source": [
    "print(train_data[0])"
   ]
  },
  {
   "cell_type": "code",
   "execution_count": null,
   "id": "0574041e-1135-4dda-a12d-6da0839b01c2",
   "metadata": {
    "tags": []
   },
   "outputs": [],
   "source": [
    "def convert_to_english(list_of_integers):\n",
    "    word_index = tf.keras.datasets.imdb.get_word_index()\n",
    "    # reverse the word index\n",
    "    reverse_word_index = {idx : word for (word, idx) in word_index.items() }\n",
    "    # map each integer to a word and join all words together\n",
    "    # Index 0, 1 and 2 are reserved for 'padding', 'start of sequence', and 'unknown'\n",
    "    return \" \".join(reverse_word_index.get(idx - 3, \"?\") for idx in list_of_integers)\n",
    "\n",
    "convert_to_english(train_data[0])"
   ]
  },
  {
   "cell_type": "markdown",
   "id": "1ec27aa7-d37d-4e28-93e2-d11e4c31dc5b",
   "metadata": {},
   "source": [
    "## Part 2: Prepare the Data"
   ]
  },
  {
   "cell_type": "code",
   "execution_count": null,
   "id": "cd460b7f-0f68-4658-a89f-f5e49615fa07",
   "metadata": {
    "tags": []
   },
   "outputs": [],
   "source": [
    "def convert_to_multi_hot(sequences, dimension):\n",
    "    output = np.zeros(shape=(sequences.shape[0], dimension), dtype=np.float32)\n",
    "    \n",
    "    for i in range(sequences.shape[0]):\n",
    "        for j in sequences[i]:\n",
    "            output[i, j] = 1\n",
    "        \n",
    "    return output"
   ]
  },
  {
   "cell_type": "code",
   "execution_count": null,
   "id": "9e583419-2d5e-4570-b9da-9a48546ec697",
   "metadata": {
    "tags": []
   },
   "outputs": [],
   "source": [
    "convert_to_multi_hot(np.array([[1,2,3,1],[0,4,5,4]]), dimension=6)"
   ]
  },
  {
   "cell_type": "code",
   "execution_count": null,
   "id": "65605e5d-e8a2-4980-b36d-8620c6a48e98",
   "metadata": {
    "tags": []
   },
   "outputs": [],
   "source": [
    "X_train = convert_to_multi_hot(train_data, dimension=10_000)\n",
    "X_test = convert_to_multi_hot(test_data, dimension=10_000)\n",
    "# Rename the labels\n",
    "y_train = train_labels\n",
    "y_test = test_labels"
   ]
  },
  {
   "cell_type": "code",
   "execution_count": null,
   "id": "83fb3f37-ff62-4777-9209-c867e912bfa0",
   "metadata": {
    "tags": []
   },
   "outputs": [],
   "source": [
    "# Set aside the first 10_000 examples as validation data\n",
    "X_val = X_test[:10_000]\n",
    "y_val = y_test[:10_000]\n",
    "X_test = X_test[10_000:]\n",
    "y_test = y_test[10_000:]"
   ]
  },
  {
   "cell_type": "markdown",
   "id": "11d7a3f4-47ad-4913-91b8-4a87c22297a3",
   "metadata": {
    "tags": []
   },
   "source": [
    "## Part 3: Build a Simple Model"
   ]
  },
  {
   "cell_type": "code",
   "execution_count": null,
   "id": "2c7f8793-222c-4994-9d64-e7356606b33e",
   "metadata": {
    "tags": []
   },
   "outputs": [],
   "source": [
    "tf.keras.backend.clear_session()\n",
    "def get_model():\n",
    "    model = tf.keras.models.Sequential()\n",
    "    \n",
    "    model.add(tf.keras.layers.Dense(units=16, activation='relu', input_shape=(10_000,)))\n",
    "    model.add(tf.keras.layers.Dense(units=16, activation='relu'))\n",
    "    model.add(tf.keras.layers.Dense(units=1, activation='sigmoid'))\n",
    "    \n",
    "    return model"
   ]
  },
  {
   "cell_type": "code",
   "execution_count": null,
   "id": "18689a21-cee7-48b9-9f4a-900b6d809af5",
   "metadata": {
    "tags": []
   },
   "outputs": [],
   "source": [
    "model = get_model()\n",
    "model.summary()"
   ]
  },
  {
   "cell_type": "markdown",
   "id": "f0705d68-4b44-40e5-819e-c37d895f5eda",
   "metadata": {},
   "source": [
    "## Part 4: Compile the Model"
   ]
  },
  {
   "cell_type": "code",
   "execution_count": null,
   "id": "c8e074f6-e722-451e-b9aa-2db90a16f983",
   "metadata": {
    "tags": []
   },
   "outputs": [],
   "source": [
    "model.compile(\n",
    "    optimizer='rmsprop',\n",
    "    loss='binary_crossentropy',\n",
    "    metrics=['accuracy']\n",
    ")"
   ]
  },
  {
   "cell_type": "markdown",
   "id": "cb4e6cd9-be96-47dd-8944-a93255248cbe",
   "metadata": {},
   "source": [
    "## Part 5: Fit the Model"
   ]
  },
  {
   "cell_type": "code",
   "execution_count": null,
   "id": "e3270762-edaa-499c-9f44-07bb5eaca52f",
   "metadata": {
    "tags": []
   },
   "outputs": [],
   "source": [
    "history = model.fit(\n",
    "    X_train, y_train, \n",
    "    validation_data =(X_val, y_val), \n",
    "    epochs=20,\n",
    "    batch_size=512\n",
    ")"
   ]
  },
  {
   "cell_type": "code",
   "execution_count": null,
   "id": "08f905f6-8e1e-4e23-b668-c7bfe06d0afe",
   "metadata": {
    "tags": []
   },
   "outputs": [],
   "source": [
    "def plot_learning_curves(history):\n",
    "    plt.figure(figsize=(8, 5))\n",
    "    for key, style in zip(history.history, [\"r-o\", \"r-*\", \"b-o\", \"b-*\"]):\n",
    "        epochs = np.array(history.epoch)\n",
    "        plt.plot(epochs + 1, history.history[key], style, label=key)\n",
    "    plt.xlabel(\"Epoch\")\n",
    "    plt.axis([1, len(history.history['loss']), 0., 1])\n",
    "    plt.legend(loc=\"lower left\")\n",
    "    plt.grid()"
   ]
  },
  {
   "cell_type": "code",
   "execution_count": null,
   "id": "fc69452e-4e01-41ef-a764-e85377c1edc4",
   "metadata": {
    "tags": []
   },
   "outputs": [],
   "source": [
    "plot_learning_curves(history)"
   ]
  },
  {
   "cell_type": "code",
   "execution_count": null,
   "id": "225a07f9-b105-4014-9f40-4187f38f2173",
   "metadata": {
    "tags": []
   },
   "outputs": [],
   "source": [
    "# Only train for 3 epochs\n",
    "model = get_model()\n",
    "model.compile(\n",
    "    optimizer='rmsprop',\n",
    "    loss='binary_crossentropy',\n",
    "    metrics='accuracy'\n",
    ")\n",
    "history = model.fit(\n",
    "    X_train, y_train, \n",
    "    validation_data =(X_val, y_val), \n",
    "    epochs=3,\n",
    "    batch_size=512\n",
    ")"
   ]
  },
  {
   "cell_type": "code",
   "execution_count": null,
   "id": "daa5f05d-f26d-42ec-adab-d7d816e2ad3a",
   "metadata": {
    "tags": []
   },
   "outputs": [],
   "source": [
    "plot_learning_curves(history)"
   ]
  },
  {
   "cell_type": "markdown",
   "id": "062793b7-fc71-44a5-8fb3-1d5b3160e868",
   "metadata": {},
   "source": [
    "### Step 6: Evaluate on the test set"
   ]
  },
  {
   "cell_type": "code",
   "execution_count": null,
   "id": "21b32339-2dd8-4249-b4b0-1aaf905191d8",
   "metadata": {
    "tags": []
   },
   "outputs": [],
   "source": [
    "model.evaluate(X_test, y_test, batch_size=512)"
   ]
  },
  {
   "cell_type": "code",
   "execution_count": null,
   "id": "cae399d2-1b16-47df-8156-f7d627261e6e",
   "metadata": {
    "tags": []
   },
   "outputs": [],
   "source": [
    "y_test_pred = model(X_test).numpy()"
   ]
  },
  {
   "cell_type": "code",
   "execution_count": null,
   "id": "5bc1e367-dfbe-4e78-89bf-e9f6e5431d4d",
   "metadata": {
    "tags": []
   },
   "outputs": [],
   "source": [
    "def find_confidently_wrong(y_true, y_pred, top=10):\n",
    "    \"\"\"\n",
    "    y_true: the true labels (0/1). Shape (n, 1)\n",
    "    y_pred: the predictions (floats). Shape(n, 1)\n",
    "    \n",
    "    Returns: list of indices, such that these indices have the highest loss (and they are actually misclassified)\n",
    "    \"\"\"\n",
    "    assert len(y_true.shape) == len(y_pred.shape) == 2, \"Rank should be 2\"\n",
    "    assert y_true.shape[0] == y_pred.shape[0], \"Not the same length\"\n",
    "    assert y_true.shape[1] == y_pred.shape[1] == 1, \"Second dimension should be 1\"     \n",
    "    bce = tf.keras.losses.BinaryCrossentropy(reduction=tf.keras.losses.Reduction.NONE)\n",
    "    \n",
    "    losses = bce(y_true, y_pred).numpy()\n",
    "    high_losses_indices = np.argsort(losses)[-top:]\n",
    "    high_losses_indices = list(high_losses_indices)[::-1] # reverse it, so that highest loss is first\n",
    "        \n",
    "    y_pred_labels = np.where(y_pred > 0.5, 1, 0)\n",
    "    return [idx for idx in high_losses_indices if y_true[idx] != y_pred_labels[idx]]\n",
    "    "
   ]
  },
  {
   "cell_type": "code",
   "execution_count": null,
   "id": "00fe3b7f-95f0-4952-b984-2b335bdb1886",
   "metadata": {
    "tags": []
   },
   "outputs": [],
   "source": [
    "import pprint\n",
    "\n",
    "y_test_true = y_test.reshape(-1,1)\n",
    "for idx in find_confidently_wrong(y_test_true, y_test_pred, top=10):\n",
    "    actual_sentiment = 'POSITIVE' if y_test_true[idx][0] == 1 else 'NEGATIVE'\n",
    "    predicted_sentiment = 'POSITIVE' if y_test_pred[idx][0] > 0.5 else 'NEGATIVE'\n",
    "    # Add 10_000 because we used the first 10_000 elements as validation data\n",
    "    pprint.pprint(convert_to_english(test_data[10_000 + idx]), width=80)\n",
    "    print(f\"is a {actual_sentiment} review but is was classified as {predicted_sentiment}.\")\n",
    "    print(\"**************************************\")     "
   ]
  }
 ],
 "metadata": {
  "kernelspec": {
   "display_name": "Python 3 (ipykernel)",
   "language": "python",
   "name": "python3"
  },
  "language_info": {
   "codemirror_mode": {
    "name": "ipython",
    "version": 3
   },
   "file_extension": ".py",
   "mimetype": "text/x-python",
   "name": "python",
   "nbconvert_exporter": "python",
   "pygments_lexer": "ipython3",
   "version": "3.9.16"
  }
 },
 "nbformat": 4,
 "nbformat_minor": 5
}
